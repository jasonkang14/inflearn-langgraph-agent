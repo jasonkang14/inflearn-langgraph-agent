{
 "cells": [
  {
   "cell_type": "markdown",
   "metadata": {},
   "source": [
    "# 2.4 생성된 답변을 여러번 검증하는 Self-RAG\n",
    "\n",
    "- [Self-RAG: Learning to Retrieve, Generate, and Critique through Self-Reflection](https://arxiv.org/abs/2310.11511)논문을 구현합니다\n",
    "- LangGraph 공식문서에 나온 흐름을 따라갑니다\n",
    "![self-rag](./images/self-rag.png)"
   ]
  },
  {
   "cell_type": "code",
   "execution_count": 1,
   "metadata": {},
   "outputs": [],
   "source": [
    "from langchain_chroma import Chroma\n",
    "from langchain_openai import OpenAIEmbeddings\n",
    "\n",
    "embedding_function = OpenAIEmbeddings(model='text-embedding-3-large')\n",
    "\n",
    "vector_store = Chroma(\n",
    "    embedding_function=embedding_function,\n",
    "    collection_name = 'income_tax_collection',\n",
    "    persist_directory = './income_tax_collection'\n",
    ")\n",
    "retriever = vector_store.as_retriever(search_kwargs={'k': 3})"
   ]
  },
  {
   "cell_type": "code",
   "execution_count": 2,
   "metadata": {},
   "outputs": [],
   "source": [
    "from typing_extensions import List, TypedDict\n",
    "from langchain_core.documents import Document\n",
    "from langgraph.graph import StateGraph\n",
    "\n",
    "class AgentState(TypedDict):\n",
    "    query: str\n",
    "    context: List[Document]\n",
    "    answer: str \n",
    "    \n",
    "graph_builder = StateGraph(AgentState)"
   ]
  },
  {
   "cell_type": "code",
   "execution_count": 3,
   "metadata": {},
   "outputs": [],
   "source": [
    "def retrieve(state: AgentState) -> AgentState:\n",
    "    \"\"\"\n",
    "    사용자의 질문에 기반하여 벡터 스토어에서 관련 문서를 검색합니다.\n",
    "\n",
    "    Args:\n",
    "        state (AgentState): 사용자의 질문을 포함한 에이전트의 현재 상태.\n",
    "\n",
    "    Returns:\n",
    "        AgentState: 검색된 문서가 추가된 상태를 반환합니다.\n",
    "    \"\"\"\n",
    "    query = state['query']\n",
    "    docs = retriever.invoke(query)\n",
    "    return {'context': docs}"
   ]
  },
  {
   "cell_type": "code",
   "execution_count": 4,
   "metadata": {},
   "outputs": [],
   "source": [
    "from langchain_openai import ChatOpenAI\n",
    "\n",
    "llm = ChatOpenAI(model='gpt-4o')"
   ]
  },
  {
   "cell_type": "code",
   "execution_count": 5,
   "metadata": {},
   "outputs": [
    {
     "name": "stderr",
     "output_type": "stream",
     "text": [
      "/Users/jasonkang/.pyenv/versions/3.12.2/envs/inflearn-langgraph-lecture/lib/python3.12/site-packages/langsmith/client.py:256: LangSmithMissingAPIKeyWarning: API key must be provided when using hosted LangSmith API\n",
      "  warnings.warn(\n"
     ]
    }
   ],
   "source": [
    "from langchain import hub\n",
    "\n",
    "# 허브에서 RAG 프롬프트를 가져옵니다\n",
    "generate_prompt = hub.pull(\"rlm/rag-prompt\")\n",
    "\n",
    "# 지정된 매개변수로 언어 모델을 초기화합니다\n",
    "generate_llm = ChatOpenAI(model='gpt-4o', max_completion_tokens=100)\n",
    "\n",
    "def generate(state: AgentState) -> AgentState:\n",
    "    \"\"\"\n",
    "    주어진 상태를 기반으로 RAG 체인을 사용하여 응답을 생성합니다.\n",
    "\n",
    "    Args:\n",
    "        state (AgentState): 사용자의 질문과 문맥을 포함한 에이전트의 현재 상태.\n",
    "\n",
    "    Returns:\n",
    "        AgentState: 생성된 응답을 포함하는 상태를 반환합니다.\n",
    "    \"\"\"\n",
    "    # 상태에서 컨텍스트와 쿼리를 추출합니다\n",
    "    context = state['context']\n",
    "    query = state['query']\n",
    "    \n",
    "    # 작업 체인을 생성합니다: 먼저 프롬프트를 검색하고, 그 다음 응답을 생성합니다\n",
    "    rag_chain = generate_prompt | generate_llm\n",
    "    \n",
    "    # 쿼리와 컨텍스트로 체인을 호출하여 응답을 얻습니다\n",
    "    response = rag_chain.invoke({'question': query, 'context': context})\n",
    "    \n",
    "    # 생성된 답변을 반환합니다\n",
    "    return {'answer': response.content}"
   ]
  },
  {
   "cell_type": "markdown",
   "metadata": {},
   "source": [
    "- `retrieve` 노드에서 추출된 문서와 사용자의 질문이 관련이 있는지 판단합니다\n",
    "    - 문서와 관련이 없다면 질문에 답변할 수 없다고 판단하고 마무리합니다\n",
    "    - 문서와 관련이 있다면 `generate` 노드로 이동해서 답변을 생성합니다"
   ]
  },
  {
   "cell_type": "code",
   "execution_count": 6,
   "metadata": {},
   "outputs": [
    {
     "name": "stderr",
     "output_type": "stream",
     "text": [
      "/Users/jasonkang/.pyenv/versions/3.12.2/envs/inflearn-langgraph-lecture/lib/python3.12/site-packages/langsmith/client.py:256: LangSmithMissingAPIKeyWarning: API key must be provided when using hosted LangSmith API\n",
      "  warnings.warn(\n"
     ]
    }
   ],
   "source": [
    "from langchain import hub\n",
    "from typing import Literal\n",
    "\n",
    "doc_relevance_prompt = hub.pull(\"langchain-ai/rag-document-relevance\")\n",
    "\n",
    "def check_doc_relevance(state: AgentState) -> Literal['relevant', 'irrelevant']:\n",
    "    \"\"\"\n",
    "    주어진 상태를 기반으로 문서의 관련성을 판단합니다.\n",
    "\n",
    "    Args:\n",
    "        state (AgentState): 사용자의 질문과 문맥을 포함한 에이전트의 현재 상태.\n",
    "\n",
    "    Returns:\n",
    "        Literal['relevant', 'irrelevant']: 문서가 관련성이 높으면 'relevant', 그렇지 않으면 'irrelevant'를 반환합니다.\n",
    "    \"\"\"\n",
    "    query = state['query']\n",
    "    context = state['context']\n",
    "\n",
    "    doc_relevance_chain = doc_relevance_prompt | llm\n",
    "    response = doc_relevance_chain.invoke({'question': query, 'documents': context})\n",
    "\n",
    "    if response['Score'] == 1:\n",
    "        # 2.3장과 다르게 `relevant`와 `irrelevant`를 반환합니다\n",
    "        # node를 직접 지정하는 것보다 실제 판단 결과를 리턴하면서 해당 node의 재사용성을 높일 수 있습니다.\n",
    "        return 'relevant'\n",
    "    \n",
    "    return 'irrelevant'"
   ]
  },
  {
   "cell_type": "code",
   "execution_count": 7,
   "metadata": {},
   "outputs": [],
   "source": [
    "from langchain_core.prompts import PromptTemplate\n",
    "from langchain_core.output_parsers import StrOutputParser\n",
    "\n",
    "dictionary = ['사람과 관련된 표현 -> 거주자']\n",
    "\n",
    "rewrite_prompt = PromptTemplate.from_template(f\"\"\"\n",
    "사용자의 질문을 보고, 우리의 사전을 참고해서 사용자의 질문을 변경해주세요 \n",
    "사전: {dictionary}                                           \n",
    "질문: {{query}}\n",
    "\"\"\")\n",
    "\n",
    "def rewrite(state: AgentState) -> AgentState:\n",
    "    \"\"\"\n",
    "    사용자의 질문을 사전을 참고하여 변경합니다.\n",
    "\n",
    "    Args:\n",
    "        state (AgentState): 사용자의 질문을 포함한 에이전트의 현재 상태.\n",
    "\n",
    "    Returns:\n",
    "        AgentState: 변경된 질문을 포함하는 상태를 반환합니다.\n",
    "    \"\"\"\n",
    "    query = state['query']\n",
    "    rewrite_chain = rewrite_prompt | llm | StrOutputParser()\n",
    "\n",
    "    response = rewrite_chain.invoke({'query': query})\n",
    "    return {'query': response}\n"
   ]
  },
  {
   "cell_type": "markdown",
   "metadata": {},
   "source": [
    "- 답변이 `retrieve` 노드에서 추출된 문서와 관련이 있는지 판단합니다\n",
    "    - 문서와 관련이 없다면 `generate` 노드로 이동해서 답변을 다시 생성합니다\n",
    "    - 문서와 관련이 있다면 `check_helpfulness` 노드로 이동해서 답변이 도움이 되는지 판단합니다"
   ]
  },
  {
   "cell_type": "code",
   "execution_count": 8,
   "metadata": {},
   "outputs": [],
   "source": [
    "# set the LANGCHAIN_API_KEY environment variable (create key in settings)\n",
    "from langchain_core.output_parsers import StrOutputParser\n",
    "\n",
    "hallucination_prompt = PromptTemplate.from_template(\"\"\"\n",
    "You are a teacher tasked with evaluating whether a student's answer is based on documents or not,\n",
    "Given documents, which are excerpts from income tax law, and a student's answer;\n",
    "If the student's answer is based on documents, respond with \"not hallucinated\",\n",
    "If the student's answer is not based on documents, respond with \"hallucinated\".\n",
    "\n",
    "documents: {documents}\n",
    "student_answer: {student_answer}\n",
    "\"\"\")\n",
    "\n",
    "hallucination_llm = ChatOpenAI(model='gpt-4o', temperature=0)\n",
    "\n",
    "def check_hallucination(state: AgentState) -> Literal['hallucinated', 'not hallucinated']:\n",
    "    answer = state['answer']\n",
    "    context = state['context']\n",
    "    context = [doc.page_content for doc in context]\n",
    "    hallucination_chain = hallucination_prompt | hallucination_llm | StrOutputParser()\n",
    "    response = hallucination_chain.invoke({'student_answer': answer, 'documents': context})\n",
    "\n",
    "    return response"
   ]
  },
  {
   "cell_type": "markdown",
   "metadata": {},
   "source": [
    "- 생성된 답변이 사용자의 질문과 관련이 있는지 판단합니다\n",
    "    - 질문과 관련이 있다면 사용자에게 답변을 리턴합니다\n",
    "    - 질문과 관련이 없다면 `rewrite` 노드로 이동해서 사용자의 질문을 변경합니다\n",
    "        - `rewrite` 후 다시 `retrieve` 합니다\n",
    "\n",
    "- 섹션 3에 나오는 것처럼 `check_helpfulness` node를 생성하지 않고 `conditional_edge`로만 사용할 수도 있습니다"
   ]
  },
  {
   "cell_type": "code",
   "execution_count": 9,
   "metadata": {},
   "outputs": [
    {
     "name": "stderr",
     "output_type": "stream",
     "text": [
      "/Users/jasonkang/.pyenv/versions/3.12.2/envs/inflearn-langgraph-lecture/lib/python3.12/site-packages/langsmith/client.py:256: LangSmithMissingAPIKeyWarning: API key must be provided when using hosted LangSmith API\n",
      "  warnings.warn(\n"
     ]
    }
   ],
   "source": [
    "# set the LANGCHAIN_API_KEY environment variable (create key in settings)\n",
    "from langchain import hub\n",
    "helpfulness_prompt = hub.pull(\"langchain-ai/rag-answer-helpfulness\")\n",
    "\n",
    "def check_helpfulness_grader(state: AgentState) -> AgentState:\n",
    "    query = state['query']\n",
    "    answer = state['answer']\n",
    "\n",
    "    helpfulness_chain = helpfulness_prompt | llm\n",
    "    response = helpfulness_chain.invoke({'question': query, 'student_answer': answer})\n",
    "\n",
    "    if response['Score'] == 1:\n",
    "        return 'helpful'\n",
    "    \n",
    "    return 'unhelpful'\n",
    "\n",
    "def check_helpfulness(state: AgentState) -> AgentState:\n",
    "    return state"
   ]
  },
  {
   "cell_type": "markdown",
   "metadata": {},
   "source": [
    "- `node`를 추가하고 `edge`로 연결합니다"
   ]
  },
  {
   "cell_type": "code",
   "execution_count": 10,
   "metadata": {},
   "outputs": [
    {
     "data": {
      "text/plain": [
       "<langgraph.graph.state.StateGraph at 0x15ec59a30>"
      ]
     },
     "execution_count": 10,
     "metadata": {},
     "output_type": "execute_result"
    }
   ],
   "source": [
    "graph_builder.add_node('retrieve', retrieve)\n",
    "graph_builder.add_node('generate', generate)\n",
    "graph_builder.add_node('rewrite', rewrite)\n",
    "graph_builder.add_node('check_helpfulness', check_helpfulness)"
   ]
  },
  {
   "cell_type": "code",
   "execution_count": 11,
   "metadata": {},
   "outputs": [
    {
     "data": {
      "text/plain": [
       "<langgraph.graph.state.StateGraph at 0x15ec59a30>"
      ]
     },
     "execution_count": 11,
     "metadata": {},
     "output_type": "execute_result"
    }
   ],
   "source": [
    "from langgraph.graph import START, END\n",
    "\n",
    "graph_builder.add_edge(START, 'retrieve')\n",
    "graph_builder.add_conditional_edges(\n",
    "    'retrieve',\n",
    "    check_doc_relevance, \n",
    "    {\n",
    "        'relevant': 'generate',\n",
    "        'irrelevant': END\n",
    "    }\n",
    ")\n",
    "graph_builder.add_conditional_edges(\n",
    "    'generate',\n",
    "    check_hallucination,\n",
    "    {\n",
    "        'not hallucinated': 'check_helpfulness',\n",
    "        'hallucinated': 'generate'\n",
    "    }\n",
    ")\n",
    "\n",
    "graph_builder.add_conditional_edges(\n",
    "    'check_helpfulness',\n",
    "    check_helpfulness_grader,\n",
    "    {\n",
    "        'helpful': END,\n",
    "        'unhelpful': 'rewrite'\n",
    "    }\n",
    ")\n",
    "graph_builder.add_edge('rewrite', 'retrieve')"
   ]
  },
  {
   "cell_type": "code",
   "execution_count": 12,
   "metadata": {},
   "outputs": [],
   "source": [
    "graph = graph_builder.compile()"
   ]
  },
  {
   "cell_type": "code",
   "execution_count": 13,
   "metadata": {},
   "outputs": [
    {
     "data": {
      "image/png": "[encoded data removed]",
      "text/plain": [
       "<IPython.core.display.Image object>"
      ]
     },
     "metadata": {},
     "output_type": "display_data"
    }
   ],
   "source": [
    "from IPython.display import Image, display\n",
    "\n",
    "display(Image(graph.get_graph().draw_mermaid_png()))"
   ]
  },
  {
   "cell_type": "code",
   "execution_count": 14,
   "metadata": {},
   "outputs": [
    {
     "name": "stdout",
     "output_type": "stream",
     "text": [
      "context == [Document(metadata={'source': './documents/income_tax.txt'}, page_content='5년 이하: 30만원 → 납입연수\\n5년 초과 10년 이하: 150만원 + 50만원 × (납입연수 - 5년)\\n10년 초과 20년 이하: 400만원 + 80만원 × (납입연수 - 10년)\\n20년 초과: 1,200만원 + 120만원 × (납입연수 - 20년)\\n\\n② 직장근로자 초과관세환급금을 분배하여 지급받는 경우 세액의 계산 방법 등 필요한 사항은 대통령령으로 정한다. \\n<대통령 2014. 12. 23.>\\n<전문개정 2009. 12. 31.>\\n제64조(부동산매매업자에 대한 세액 계산의 특례)\\n1) 대통령령으로 정하는 부동산매매업(이하 “부동산매매업”이라 한다)을 영위하는 거주자가 이하 “부동산매매업자”라 한다)로서 종합소득세법에 제104조제1항제1호(본항을 포함한다) 및 제103조 또는 같은 조 제7항 각 호의 어느 하나에 해당하는 자산의 매매자익(이하 “주택등매매차익”이라 한다)이 있는 자의 종합소득 산출세액은 다음 각 호의 세액 중 많은 것으로 한다. \\n<개정 2014. 12. 23., 2017. 12. 19., 2020. 12. 29.>\\n1. 종합소득 산출세액\\n\\n다음 각 목에 따른 세액의 합계액\\n  가. 주택등매매차익에 따른 세율을 적용하여 산출한 세액의 합계액\\n  나. 종합소득세법 제55조에 따라 주택등매매차익에 대한 개별세액을 공제한 금액을 과세표준으로 하고 이에 제55조에 따른 세율을 적용하여 산출세액'), Document(metadata={'source': './documents/income_tax.txt'}, page_content='② 제70조제1항, 제70조의2에 따른 제74조에 따라 차례로 할 것이 제70조제1항제2호에 따르며 서류를 제출하여야 한다는 경우에는 기준소득 중 거주자 본인이 된다(분산)과 제70조제2와 제74조에 따른 제료 및 제대법을 포함한다. 단, 차별제표청정인 그 업체를 남겨 제출한 경우로 그에 대하여 아니하다.<개정 2013. 1. 1.>\\n  ③ 제80조에 따른 수익과 관련의 경우에는 기초공제 중 거주자 본인이 된다(분산)과 그에 관한 적지사항을 분명히 한다.\\n[전문개정 2009. 12. 31.]\\n[제목개정 2014. 1. 1.]\\n제54조의2(공동사업에 대한 소득공제 등 특례) 제51조의3 또는 「조세특례제한법」에 따른 소득공제를 적용하거나 제59조의2에 따른 세액감면을 적용하는 경우 제54조제3항에 따라 공동사업자의 소득에 합산과세되는 특별세액거래의 지출․납입․투자 등의 금액이 있을 경우 주된 공동사업자의 소득에 합산과세되는 소득금액에 합산되어 주된 공동사업자의 합산과세세액은 공동사업소득액 또는 공동사업창출세액을 계산할 때 소득공제 또는 세액공제를 받을 수 있다. \\n[개정 2014. 1. 1.]\\n[전문개정 2009. 12. 31.]\\n[제목개정 2014. 1. 1.]\\n제2절 세액의 계산 <개정 2009. 12. 31.>\\n제1관 세율 <개정 2009. 12. 31.>\\n제55조(세율) 거주자의 종합소득에 대한 소득세는 해당 연도의 종합소득과세표준에 다음의 세율을 적용하여 계산한 금액(이하 \"종합소득과세표준세액\"이라 한다)을 그 세액으로 한다. <개정 2014. 1. 1., 2016. 12. 20., 2017. 12. 19., 2020. 12. 29., 2022. 12. 31.>\\n종합소득\\n┌───────────────┐\\n│ 과세표준의 6개 구간 │\\n├───────────────┤\\n│ 1,400만원 이하        │ 84만원 + (1,400만원을 초과하는 금액의 15%)  │\\n│ 1,400만원 초과        │ 84만원 + (5,000만원을 초과하는 금액의 24%)  │\\n│ 8,800만원 이하        │ 624만원 + (5,000만원을 초과하는 금액의 24%)  │\\n│ 8,800만원 초과        │ 1,536만원 + (8,800만원을 초과하는 금액의 35%)  │\\n│ 1.5억원 초과          │ 4,046만원 + (1,500만원을 초과하는 금액의 38%)  │\\n│ 3억원 초과            │ 6,460만원 + (3억원을 초과하는 금액의 40%)  │\\n│ 5억원 초과            │ 14,760만원 + (5억원을 초과하는 금액의 42%)  │\\n│ 10억원 초과           │ 38,406만원 + (10억원을 초과하는 금액의 45%)  │\\n└───────────────┘\\n② 거주자의 퇴직소득에 대한 소득세는 다음 각 호의 순서에 따라 계산한 금액(이하 ‘퇴직소득 산출세액’이라 한다)으로 한다. <개정 2013. 1. 1., 2014. 12. 23.>'), Document(metadata={'source': './documents/income_tax.txt'}, page_content='근무기한: 개월 수로 계산한다. 이 경우 1개월 미만의 기간이 있는 경우에는 이를 1개월로 본다.\\n종합소득: 봉급ㆍ상여 등 제20조제1항제1호 및 제23조에 따른 포괄소득(제12조전단에 따른 비과세소득은 제외한다)을 한다.\\n⑤ 삭제<2013. 1. 1.>\\n⑥ 퇴직소득의 범위 및 계산방법과 그 밖에 필요한 사항은 대통령령으로 정한다.<전문개정 2009. 12. 31.>\\n\\n제23조 <삭제 2006. 12. 30.>\\n제3절 소득금액의 계산\\n제5장 2009. 12. 31.>\\n제1항 총수입금액 <개정 2009. 12. 31.>\\n제24조(총수입금액의 계산) ① 거주자 각 소득에 대한 총수입액(총급여액과 총연금액을 포함한다. 이하 같다)은 해당 과세기간에 수입하였거나 수입할 금액의 합계액으로 한다.\\n② 제1항의 경우 금지 외의 자원을 수입할 때는 그 수입금액을 그 거래 당시의 가격에 의하여 계산한다.\\n총수입액을 계산할 때 수입하였거나 수입할 금액의 범위와 계산에 관한 필요한 사항은 대통령령으로 정한다.<전문개정 2009. 12. 31.>\\n제25조(총수입금액의 계산과 특례) ① 거주자가 부동산 또는 그 부동산상의 권리 등을 대여하거나 보증금ㆍ전세금 또는 이와 유사한 성질의 금액(이하 \"보증금\"이라 한다)을 받는 경우에는 대통령령으로 정하는 범에 따라 계산한 금액을 상속소득금액에산입할 때 총수입금액에 산입한다. 다만, 주택자금의 용도로 보이는 명저 1조(F) 또는 1세대당 3천미터 이하인 주택으로서 해당 세기기간이 기준시가가 2억인 이하 주택을 2026년 12월 31일까지 주택 수입 계산하지 아니하는 대여요금받는 경우에는 다음 중 하나의 하나에 해당하는 경우를 하며, 주택 수의 계산에 필요한 사항은 대통령령으로 정한다. <개정 2012. 1. 1., 2014. 1. 1., 2016. 12. 20, 2018. 12. 31, 2021. 12. 8, 2023. 12. 31.>\\n\\n3주택 이상을 소유하며 해당 주택의 보증금의 합계액이 3억원을 초과하는 경우  \\n주택당(해당 주택의 기준시가가 12억원 이하인 주택 주택에 포함하지 아니하는 것을 소유하거나 해당 주택의 보증금의 합계액이 3억원 이상인 경우로서 대통령령으로 정하는 금액을 초과하는 경우\\n거주자가 재산소득(資産所得) 또는 임금을 가사로 소비하지증명된 날에 지급받는 경우에 이를 소비하지 않고 사용하는 금액에 대해 가액에 해당하는 금액을 소비하지 않으면 소득금액에 대한 선입법의 사업소득금액에 산입한다.<삭제 2021. 12. 19.>\\n[시행일: 2026. 1. 1. <지방소득세법 제25조제1항제1호>]')]\n",
      "doc relevance response: {'Score': 1, 'Explanation': 'The question asks about the income tax liability for a resident with an annual income of 50 million won. The provided facts contain relevant information concerning the calculation of income tax, specifically mentioning the tax rates applicable to various income brackets. For example, one fact states that income exceeding 5 million won is taxed at a different rate, which is directly relevant to determining the tax liability for an income of 50 million won. Additionally, the facts discuss the comprehensive income tax calculation and standards for taxation, all of which are pertinent to understanding how to calculate the exact tax owed by an individual with the specified income. Therefore, the facts are related to the question and help in calculating the specific tax amount for the given income.'}\n",
      "hallucination response: not hallucinated\n",
      "answer == 연봉 5천만 원인 거주자의 소득세는 624만 원입니다. 이는 과세표준 구간에 따라 5천만 원 초과 금액에 24% 세율을 적용하여 계산된 금액입니다.\n",
      "helpfulness response: {'Score': 1, 'Explanation': \"The student's answer directly addresses the question by stating that the income tax for a resident with an annual salary of 50 million won is 6.24 million won. It further explains that this amount is calculated by applying a 24% tax rate to the amount exceeding the taxable income bracket, which provides additional context for understanding how the tax amount was derived. Therefore, the answer is concise, relevant, and helps in answering the question effectively.\"}\n"
     ]
    },
    {
     "data": {
      "text/plain": [
       "{'query': '연봉 5천만원인 거주자가 납부해야 하는 소득세는 얼마인가요?',\n",
       " 'context': [Document(metadata={'source': './documents/income_tax.txt'}, page_content='5년 이하: 30만원 → 납입연수\\n5년 초과 10년 이하: 150만원 + 50만원 × (납입연수 - 5년)\\n10년 초과 20년 이하: 400만원 + 80만원 × (납입연수 - 10년)\\n20년 초과: 1,200만원 + 120만원 × (납입연수 - 20년)\\n\\n② 직장근로자 초과관세환급금을 분배하여 지급받는 경우 세액의 계산 방법 등 필요한 사항은 대통령령으로 정한다. \\n<대통령 2014. 12. 23.>\\n<전문개정 2009. 12. 31.>\\n제64조(부동산매매업자에 대한 세액 계산의 특례)\\n1) 대통령령으로 정하는 부동산매매업(이하 “부동산매매업”이라 한다)을 영위하는 거주자가 이하 “부동산매매업자”라 한다)로서 종합소득세법에 제104조제1항제1호(본항을 포함한다) 및 제103조 또는 같은 조 제7항 각 호의 어느 하나에 해당하는 자산의 매매자익(이하 “주택등매매차익”이라 한다)이 있는 자의 종합소득 산출세액은 다음 각 호의 세액 중 많은 것으로 한다. \\n<개정 2014. 12. 23., 2017. 12. 19., 2020. 12. 29.>\\n1. 종합소득 산출세액\\n\\n다음 각 목에 따른 세액의 합계액\\n  가. 주택등매매차익에 따른 세율을 적용하여 산출한 세액의 합계액\\n  나. 종합소득세법 제55조에 따라 주택등매매차익에 대한 개별세액을 공제한 금액을 과세표준으로 하고 이에 제55조에 따른 세율을 적용하여 산출세액'),\n",
       "  Document(metadata={'source': './documents/income_tax.txt'}, page_content='② 제70조제1항, 제70조의2에 따른 제74조에 따라 차례로 할 것이 제70조제1항제2호에 따르며 서류를 제출하여야 한다는 경우에는 기준소득 중 거주자 본인이 된다(분산)과 제70조제2와 제74조에 따른 제료 및 제대법을 포함한다. 단, 차별제표청정인 그 업체를 남겨 제출한 경우로 그에 대하여 아니하다.<개정 2013. 1. 1.>\\n  ③ 제80조에 따른 수익과 관련의 경우에는 기초공제 중 거주자 본인이 된다(분산)과 그에 관한 적지사항을 분명히 한다.\\n[전문개정 2009. 12. 31.]\\n[제목개정 2014. 1. 1.]\\n제54조의2(공동사업에 대한 소득공제 등 특례) 제51조의3 또는 「조세특례제한법」에 따른 소득공제를 적용하거나 제59조의2에 따른 세액감면을 적용하는 경우 제54조제3항에 따라 공동사업자의 소득에 합산과세되는 특별세액거래의 지출․납입․투자 등의 금액이 있을 경우 주된 공동사업자의 소득에 합산과세되는 소득금액에 합산되어 주된 공동사업자의 합산과세세액은 공동사업소득액 또는 공동사업창출세액을 계산할 때 소득공제 또는 세액공제를 받을 수 있다. \\n[개정 2014. 1. 1.]\\n[전문개정 2009. 12. 31.]\\n[제목개정 2014. 1. 1.]\\n제2절 세액의 계산 <개정 2009. 12. 31.>\\n제1관 세율 <개정 2009. 12. 31.>\\n제55조(세율) 거주자의 종합소득에 대한 소득세는 해당 연도의 종합소득과세표준에 다음의 세율을 적용하여 계산한 금액(이하 \"종합소득과세표준세액\"이라 한다)을 그 세액으로 한다. <개정 2014. 1. 1., 2016. 12. 20., 2017. 12. 19., 2020. 12. 29., 2022. 12. 31.>\\n종합소득\\n┌───────────────┐\\n│ 과세표준의 6개 구간 │\\n├───────────────┤\\n│ 1,400만원 이하        │ 84만원 + (1,400만원을 초과하는 금액의 15%)  │\\n│ 1,400만원 초과        │ 84만원 + (5,000만원을 초과하는 금액의 24%)  │\\n│ 8,800만원 이하        │ 624만원 + (5,000만원을 초과하는 금액의 24%)  │\\n│ 8,800만원 초과        │ 1,536만원 + (8,800만원을 초과하는 금액의 35%)  │\\n│ 1.5억원 초과          │ 4,046만원 + (1,500만원을 초과하는 금액의 38%)  │\\n│ 3억원 초과            │ 6,460만원 + (3억원을 초과하는 금액의 40%)  │\\n│ 5억원 초과            │ 14,760만원 + (5억원을 초과하는 금액의 42%)  │\\n│ 10억원 초과           │ 38,406만원 + (10억원을 초과하는 금액의 45%)  │\\n└───────────────┘\\n② 거주자의 퇴직소득에 대한 소득세는 다음 각 호의 순서에 따라 계산한 금액(이하 ‘퇴직소득 산출세액’이라 한다)으로 한다. <개정 2013. 1. 1., 2014. 12. 23.>'),\n",
       "  Document(metadata={'source': './documents/income_tax.txt'}, page_content='근무기한: 개월 수로 계산한다. 이 경우 1개월 미만의 기간이 있는 경우에는 이를 1개월로 본다.\\n종합소득: 봉급ㆍ상여 등 제20조제1항제1호 및 제23조에 따른 포괄소득(제12조전단에 따른 비과세소득은 제외한다)을 한다.\\n⑤ 삭제<2013. 1. 1.>\\n⑥ 퇴직소득의 범위 및 계산방법과 그 밖에 필요한 사항은 대통령령으로 정한다.<전문개정 2009. 12. 31.>\\n\\n제23조 <삭제 2006. 12. 30.>\\n제3절 소득금액의 계산\\n제5장 2009. 12. 31.>\\n제1항 총수입금액 <개정 2009. 12. 31.>\\n제24조(총수입금액의 계산) ① 거주자 각 소득에 대한 총수입액(총급여액과 총연금액을 포함한다. 이하 같다)은 해당 과세기간에 수입하였거나 수입할 금액의 합계액으로 한다.\\n② 제1항의 경우 금지 외의 자원을 수입할 때는 그 수입금액을 그 거래 당시의 가격에 의하여 계산한다.\\n총수입액을 계산할 때 수입하였거나 수입할 금액의 범위와 계산에 관한 필요한 사항은 대통령령으로 정한다.<전문개정 2009. 12. 31.>\\n제25조(총수입금액의 계산과 특례) ① 거주자가 부동산 또는 그 부동산상의 권리 등을 대여하거나 보증금ㆍ전세금 또는 이와 유사한 성질의 금액(이하 \"보증금\"이라 한다)을 받는 경우에는 대통령령으로 정하는 범에 따라 계산한 금액을 상속소득금액에산입할 때 총수입금액에 산입한다. 다만, 주택자금의 용도로 보이는 명저 1조(F) 또는 1세대당 3천미터 이하인 주택으로서 해당 세기기간이 기준시가가 2억인 이하 주택을 2026년 12월 31일까지 주택 수입 계산하지 아니하는 대여요금받는 경우에는 다음 중 하나의 하나에 해당하는 경우를 하며, 주택 수의 계산에 필요한 사항은 대통령령으로 정한다. <개정 2012. 1. 1., 2014. 1. 1., 2016. 12. 20, 2018. 12. 31, 2021. 12. 8, 2023. 12. 31.>\\n\\n3주택 이상을 소유하며 해당 주택의 보증금의 합계액이 3억원을 초과하는 경우  \\n주택당(해당 주택의 기준시가가 12억원 이하인 주택 주택에 포함하지 아니하는 것을 소유하거나 해당 주택의 보증금의 합계액이 3억원 이상인 경우로서 대통령령으로 정하는 금액을 초과하는 경우\\n거주자가 재산소득(資産所得) 또는 임금을 가사로 소비하지증명된 날에 지급받는 경우에 이를 소비하지 않고 사용하는 금액에 대해 가액에 해당하는 금액을 소비하지 않으면 소득금액에 대한 선입법의 사업소득금액에 산입한다.<삭제 2021. 12. 19.>\\n[시행일: 2026. 1. 1. <지방소득세법 제25조제1항제1호>]')],\n",
       " 'answer': '연봉 5천만 원인 거주자의 소득세는 624만 원입니다. 이는 과세표준 구간에 따라 5천만 원 초과 금액에 24% 세율을 적용하여 계산된 금액입니다.'}"
      ]
     },
     "execution_count": 14,
     "metadata": {},
     "output_type": "execute_result"
    }
   ],
   "source": [
    "initial_state = {'query': '연봉 5천만원인 거주자가 납부해야 하는 소득세는 얼마인가요?'}\n",
    "graph.invoke(initial_state)"
   ]
  },
  {
   "cell_type": "code",
   "execution_count": null,
   "metadata": {},
   "outputs": [],
   "source": []
  }
 ],
 "metadata": {
  "kernelspec": {
   "display_name": "inflearn-langgraph-lecture",
   "language": "python",
   "name": "python3"
  },
  "language_info": {
   "name": "python",
   "version": "3.12.2"
  }
 },
 "nbformat": 4,
 "nbformat_minor": 2
}
