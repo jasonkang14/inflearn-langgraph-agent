{
 "cells": [
  {
   "cell_type": "code",
   "execution_count": 1,
   "metadata": {},
   "outputs": [
    {
     "data": {
      "text/plain": [
       "True"
      ]
     },
     "execution_count": 1,
     "metadata": {},
     "output_type": "execute_result"
    }
   ],
   "source": [
    "from dotenv import load_dotenv\n",
    "\n",
    "load_dotenv()"
   ]
  },
  {
   "cell_type": "code",
   "execution_count": 2,
   "metadata": {},
   "outputs": [],
   "source": [
    "from langchain_openai import AzureChatOpenAI\n",
    "\n",
    "llm = AzureChatOpenAI(\n",
    "    azure_deployment='gpt-4o-2024-11-20',\n",
    "    api_version='2024-08-01-preview',   \n",
    ")\n",
    "\n",
    "small_llm = AzureChatOpenAI(\n",
    "    azure_deployment='gpt-4o-mini-2024-07-18',\n",
    "    api_version='2024-08-01-preview',\n",
    ")"
   ]
  },
  {
   "cell_type": "code",
   "execution_count": 3,
   "metadata": {},
   "outputs": [
    {
     "data": {
      "text/plain": [
       "AIMessage(content='Test successful! How can I assist you today?', additional_kwargs={'refusal': None}, response_metadata={'token_usage': {'completion_tokens': 10, 'prompt_tokens': 8, 'total_tokens': 18, 'completion_tokens_details': {'accepted_prediction_tokens': 0, 'audio_tokens': 0, 'reasoning_tokens': 0, 'rejected_prediction_tokens': 0}, 'prompt_tokens_details': {'audio_tokens': 0, 'cached_tokens': 0}}, 'model_name': 'gpt-4o-mini-2024-07-18', 'system_fingerprint': 'fp_5154047bf2', 'prompt_filter_results': [{'prompt_index': 0, 'content_filter_results': {'hate': {'filtered': False, 'severity': 'safe'}, 'jailbreak': {'filtered': False, 'detected': False}, 'self_harm': {'filtered': False, 'severity': 'safe'}, 'sexual': {'filtered': False, 'severity': 'safe'}, 'violence': {'filtered': False, 'severity': 'safe'}}}], 'finish_reason': 'stop', 'logprobs': None, 'content_filter_results': {'hate': {'filtered': False, 'severity': 'safe'}, 'protected_material_code': {'filtered': False, 'detected': False}, 'protected_material_text': {'filtered': False, 'detected': False}, 'self_harm': {'filtered': False, 'severity': 'safe'}, 'sexual': {'filtered': False, 'severity': 'safe'}, 'violence': {'filtered': False, 'severity': 'safe'}}}, id='run-939cd79a-1a0b-4f5b-b2d8-a67a38fbe4b6-0', usage_metadata={'input_tokens': 8, 'output_tokens': 10, 'total_tokens': 18, 'input_token_details': {'audio': 0, 'cache_read': 0}, 'output_token_details': {'audio': 0, 'reasoning': 0}})"
      ]
     },
     "execution_count": 3,
     "metadata": {},
     "output_type": "execute_result"
    }
   ],
   "source": [
    "small_llm.invoke('test')"
   ]
  },
  {
   "cell_type": "code",
   "execution_count": 4,
   "metadata": {},
   "outputs": [],
   "source": [
    "from langchain_core.tools import tool\n",
    "\n",
    "@tool\n",
    "def add(a: int, b: int) -> int:\n",
    "    \"\"\"숫자 a와 b를 더합니다.\"\"\"\n",
    "    return a + b\n",
    "\n",
    "@tool\n",
    "def multiply(a: int, b: int) -> int:\n",
    "    \"\"\"숫자 a와 b를 곱합니다.\"\"\"\n",
    "    return a * b"
   ]
  },
  {
   "cell_type": "code",
   "execution_count": 5,
   "metadata": {},
   "outputs": [],
   "source": [
    "from langchain_community.tools import DuckDuckGoSearchRun\n",
    "\n",
    "search_tool = DuckDuckGoSearchRun()"
   ]
  },
  {
   "cell_type": "code",
   "execution_count": 6,
   "metadata": {},
   "outputs": [],
   "source": [
    "from langchain_google_community import GmailToolkit\n",
    "\n",
    "from langchain_google_community.gmail.utils import (\n",
    "    build_resource_service,\n",
    "    get_gmail_credentials,\n",
    ")\n",
    "\n",
    "# Can review scopes here https://developers.google.com/gmail/api/auth/scopes\n",
    "# For instance, readonly scope is 'https://www.googleapis.com/auth/gmail.readonly'\n",
    "credentials = get_gmail_credentials(\n",
    "    token_file=\"./google/gmail_token.json\",\n",
    "    scopes=[\"https://mail.google.com/\"],\n",
    "    client_secrets_file=\"./google/gmail_credentials.json\",\n",
    ")\n",
    "api_resource = build_resource_service(credentials=credentials)\n",
    "gmail_toolkit = GmailToolkit(api_resource=api_resource)\n",
    "gmail_tool_list = gmail_toolkit.get_tools()\n"
   ]
  },
  {
   "cell_type": "code",
   "execution_count": 7,
   "metadata": {},
   "outputs": [
    {
     "data": {
      "text/plain": [
       "[GmailCreateDraft(api_resource=<googleapiclient.discovery.Resource object at 0x12a6151c0>),\n",
       " GmailSendMessage(api_resource=<googleapiclient.discovery.Resource object at 0x12a6151c0>),\n",
       " GmailSearch(api_resource=<googleapiclient.discovery.Resource object at 0x12a6151c0>),\n",
       " GmailGetMessage(api_resource=<googleapiclient.discovery.Resource object at 0x12a6151c0>),\n",
       " GmailGetThread(api_resource=<googleapiclient.discovery.Resource object at 0x12a6151c0>)]"
      ]
     },
     "execution_count": 7,
     "metadata": {},
     "output_type": "execute_result"
    }
   ],
   "source": [
    "gmail_tool_list"
   ]
  },
  {
   "cell_type": "code",
   "execution_count": 8,
   "metadata": {},
   "outputs": [],
   "source": [
    "from langchain.agents import load_tools\n",
    "\n",
    "loaded_tool_list = load_tools(\n",
    "    [\"arxiv\"],\n",
    ")"
   ]
  },
  {
   "cell_type": "code",
   "execution_count": 9,
   "metadata": {},
   "outputs": [],
   "source": [
    "import os\n",
    "\n",
    "from langchain_chroma import Chroma\n",
    "from langchain_openai import AzureOpenAIEmbeddings\n",
    "from langchain_core.tools.retriever import create_retriever_tool\n",
    "\n",
    "embedding_function = AzureOpenAIEmbeddings(\n",
    "    model='text-embedding-3-large',\n",
    "    azure_endpoint=os.getenv('AZURE_OPENAI_EMBEDDING_ENDPOINT'),\n",
    "    api_key=os.getenv('AZURE_OPENAI_EMBEDDING_API_KEY')\n",
    ")\n",
    "vector_store = Chroma(\n",
    "    embedding_function=embedding_function,\n",
    "    collection_name = 'real_estate_tax',\n",
    "    persist_directory='./real_estate_tax_collection'\n",
    ")\n",
    "retriever = vector_store.as_retriever(search_kwargs={'k': 3})\n",
    "retriever_tool = create_retriever_tool(\n",
    "    retriever=retriever,\n",
    "    name='real_estate_tax_retriever',\n",
    "    description='Contains information about real estate tax up to December 2024',\n",
    ")"
   ]
  },
  {
   "cell_type": "code",
   "execution_count": 10,
   "metadata": {},
   "outputs": [],
   "source": [
    "from langgraph.prebuilt import ToolNode\n",
    "\n",
    "tool_list = [add, multiply, search_tool, retriever_tool] + gmail_tool_list + loaded_tool_list\n",
    "llm_with_tools = small_llm.bind_tools(tool_list)\n",
    "tool_node = ToolNode(tool_list)"
   ]
  },
  {
   "cell_type": "code",
   "execution_count": 11,
   "metadata": {},
   "outputs": [],
   "source": [
    "from langgraph.graph import MessagesState, StateGraph\n",
    "\n",
    "class AgentState(MessagesState):\n",
    "    summary: str\n",
    "\n",
    "graph_builder = StateGraph(AgentState)"
   ]
  },
  {
   "cell_type": "code",
   "execution_count": 12,
   "metadata": {},
   "outputs": [],
   "source": [
    "def agent(state: AgentState):\n",
    "    messages = state['messages']\n",
    "    response = llm_with_tools.invoke(messages)\n",
    "    return {'messages': [response]}"
   ]
  },
  {
   "cell_type": "code",
   "execution_count": 13,
   "metadata": {},
   "outputs": [],
   "source": [
    "def summarize_messages(state: AgentState):\n",
    "    messages = state['messages']\n",
    "    summary = state['summary']\n",
    "    summary_prompt = f'summarize this chat history below: \\n\\nchat_history:{messages}'\n",
    "    if summary != '':\n",
    "        summary_prompt = f'''summarize this chat history below while looking at the summary of earlier conversations\n",
    "chat_history:{messages}\n",
    "summary:{summary}'''\n",
    "    \n",
    "    summary = small_llm.invoke(summary_prompt)\n",
    "    response = llm_with_tools.invoke(messages)\n",
    "    return {'summary': response.content}"
   ]
  },
  {
   "cell_type": "code",
   "execution_count": 14,
   "metadata": {},
   "outputs": [],
   "source": [
    "from langchain_core.messages import RemoveMessage\n",
    "\n",
    "def delete_messages(state: AgentState):\n",
    "    messages = state['messages']\n",
    "    delete_messages = [RemoveMessage(id=message.id) for message in messages[:-3]]\n",
    "    return {'messages': delete_messages}"
   ]
  },
  {
   "cell_type": "code",
   "execution_count": 15,
   "metadata": {},
   "outputs": [],
   "source": [
    "def should_continue(state: MessagesState):\n",
    "    messages = state['messages']\n",
    "    last_ai_message = messages[-1]\n",
    "    if last_ai_message.tool_calls:\n",
    "        return 'tools'\n",
    "    \n",
    "    return 'summarize_messages'"
   ]
  },
  {
   "cell_type": "code",
   "execution_count": 16,
   "metadata": {},
   "outputs": [
    {
     "data": {
      "text/plain": [
       "<langgraph.graph.state.StateGraph at 0x12e444800>"
      ]
     },
     "execution_count": 16,
     "metadata": {},
     "output_type": "execute_result"
    }
   ],
   "source": [
    "graph_builder.add_node('agent', agent)\n",
    "graph_builder.add_node('tools', tool_node)\n",
    "graph_builder.add_node(delete_messages)\n",
    "graph_builder.add_node(summarize_messages)"
   ]
  },
  {
   "cell_type": "code",
   "execution_count": 17,
   "metadata": {},
   "outputs": [
    {
     "data": {
      "text/plain": [
       "<langgraph.graph.state.StateGraph at 0x12e444800>"
      ]
     },
     "execution_count": 17,
     "metadata": {},
     "output_type": "execute_result"
    }
   ],
   "source": [
    "from langgraph.graph import START, END\n",
    "\n",
    "\n",
    "graph_builder.add_edge(START, 'agent')\n",
    "graph_builder.add_conditional_edges(\n",
    "    'agent',\n",
    "    should_continue,\n",
    "    ['tools', 'summarize_messages']\n",
    ")\n",
    "graph_builder.add_edge('tools', 'agent')\n",
    "graph_builder.add_edge('summarize_messages', 'delete_messages')\n",
    "graph_builder.add_edge('delete_messages', END)"
   ]
  },
  {
   "cell_type": "code",
   "execution_count": 18,
   "metadata": {},
   "outputs": [],
   "source": [
    "from langgraph.checkpoint.memory import MemorySaver\n",
    "\n",
    "checkpointer = MemorySaver()\n",
    "\n",
    "graph= graph_builder.compile(checkpointer=checkpointer)"
   ]
  },
  {
   "cell_type": "code",
   "execution_count": 19,
   "metadata": {},
   "outputs": [
    {
     "data": {
      "image/png": "[encoded data removed]",
      "text/plain": [
       "<IPython.core.display.Image object>"
      ]
     },
     "metadata": {},
     "output_type": "display_data"
    }
   ],
   "source": [
    "from IPython.display import Image, display\n",
    "\n",
    "display(Image(graph.get_graph().draw_mermaid_png()))"
   ]
  },
  {
   "cell_type": "code",
   "execution_count": 20,
   "metadata": {},
   "outputs": [
    {
     "name": "stdout",
     "output_type": "stream",
     "text": [
      "================================\u001b[1m Human Message \u001b[0m=================================\n",
      "\n",
      "jasonkang14@gmail.com으로 Attention Is All You Need 논문을 요약해서 이메일 초안을 작성해주세요\n",
      "==================================\u001b[1m Ai Message \u001b[0m==================================\n",
      "Tool Calls:\n",
      "  arxiv (call_aKPkydAbRABUeL4s15YTksEU)\n",
      " Call ID: call_aKPkydAbRABUeL4s15YTksEU\n",
      "  Args:\n",
      "    query: Attention Is All You Need\n",
      "=================================\u001b[1m Tool Message \u001b[0m=================================\n",
      "Name: arxiv\n",
      "\n",
      "Published: 2024-07-22\n",
      "Title: Attention Is All You Need But You Don't Need All Of It For Inference of Large Language Models\n",
      "Authors: Georgy Tyukin, Gbetondji J-S Dovonon, Jean Kaddour, Pasquale Minervini\n",
      "Summary: The inference demand for LLMs has skyrocketed in recent months, and serving\n",
      "models with low latencies remains challenging due to the quadratic input length\n",
      "complexity of the attention layers. In this work, we investigate the effect of\n",
      "dropping MLP and attention layers at inference time on the performance of\n",
      "Llama-v2 models. We find that dropping dreeper attention layers only marginally\n",
      "decreases performance but leads to the best speedups alongside dropping entire\n",
      "layers. For example, removing 33\\% of attention layers in a 13B Llama2 model\n",
      "results in a 1.8\\% drop in average performance over the OpenLLM benchmark. We\n",
      "also observe that skipping layers except the latter layers reduces performances\n",
      "for more layers skipped, except for skipping the attention layers.\n",
      "\n",
      "Published: 2021-07-16\n",
      "Title: All the attention you need: Global-local, spatial-channel attention for image retrieval\n",
      "Authors: Chull Hwan Song, Hye Joo Han, Yannis Avrithis\n",
      "Summary: We address representation learning for large-scale instance-level image\n",
      "retrieval. Apart from backbone, training pipelines and loss functions, popular\n",
      "approaches have focused on different spatial pooling and attention mechanisms,\n",
      "which are at the core of learning a powerful global image representation. There\n",
      "are different forms of attention according to the interaction of elements of\n",
      "the feature tensor (local and global) and the dimensions where it is applied\n",
      "(spatial and channel). Unfortunately, each study addresses only one or two\n",
      "forms of attention and applies it to different problems like classification,\n",
      "detection or retrieval.\n",
      "  We present global-local attention module (GLAM), which is attached at the end\n",
      "of a backbone network and incorporates all four forms of attention: local and\n",
      "global, spatial and channel. We obtain a new feature tensor and, by spatial\n",
      "pooling, we learn a powerful embedding for image retrieval. Focusing on global\n",
      "descriptors, we provide empirical evidence of the interaction of all forms of\n",
      "attention and improve the state of the art on standard benchmarks.\n",
      "\n",
      "Published: 2023-06-02\n",
      "Title: RITA: Group Attention is All You Need for Timeseries Analytics\n",
      "Authors: Jiaming Liang, Lei Cao, Samuel Madden, Zachary Ives, Guoliang Li\n",
      "Summary: Timeseries analytics is of great importance in many real-world applications.\n",
      "Recently, the Transformer model, popular in natural language processing, has\n",
      "been leveraged to learn high quality feature embeddings from timeseries, core\n",
      "to the performance of various timeseries analytics tasks. However, the\n",
      "quadratic time and space complexities limit Transformers' scalability,\n",
      "especially for long timeseries. To address these issues, we develop a\n",
      "timeseries analytics tool, RITA, which uses a novel attention mechanism, named\n",
      "group attention, to address this scalability issue. Group attention dynamically\n",
      "clusters the objects based on their similarity into a small number of groups\n",
      "and approximately computes the attention at the coarse group granularity. It\n",
      "thus significantly reduces the time and space complexity, yet provides a\n",
      "theoretical guarantee on the quality of the computed attention. The dynamic\n",
      "scheduler of RITA continuously adapts the number of groups and the batch size\n",
      "in the training process, ensuring group attention always uses the fewest groups\n",
      "needed to meet the approximation quality requirement. Extensive experiments on\n",
      "various timeseries datasets and analytics tasks demonstrate that RITA\n",
      "outperforms the state-of-the-art in accuracy and is significantly faster --\n",
      "with speedups of up to 63X.\n",
      "==================================\u001b[1m Ai Message \u001b[0m==================================\n",
      "Tool Calls:\n",
      "  create_gmail_draft (call_cyvuoFvr7mjLOhyW0DOS7k6e)\n",
      " Call ID: call_cyvuoFvr7mjLOhyW0DOS7k6e\n",
      "  Args:\n",
      "    message: 안녕하세요,\n",
      "\n",
      "\"Attention Is All You Need\" 논문에 대한 간단한 요약을 아래에 첨부합니다:\n",
      "\n",
      "이 논문은 Transformer 모델의 주목 메커니즘과 그것이 자연어 처리(NLP) 작업에서 어떻게 활용되는지를 다루고 있습니다. 특히, 입력 시퀀스의 모든 단어가 다른 모든 단어에 주의를 기울일 수 있는 능력을 강조합니다. 이 메커니즘은 모델이 더 효과적으로 문맥을 이해하고 더 나은 결과를 생성할 수 있도록 도와줍니다.\n",
      "\n",
      "Transformer는 인코더-디코더 구조를 가지고 있으며, 병렬 처리의 이점을 활용하여 학습 시간과 성능을 개선합니다. 이 모델은 번역, 텍스트 생성 등 다양한 NLP 작업에서 뛰어난 성능을 보여주고 있습니다.\n",
      "\n",
      "더 궁금한 점이 있으면 언제든지 말씀해 주세요.\n",
      "\n",
      "감사합니다.\n",
      "    to: ['jasonkang14@gmail.com']\n",
      "    subject: Attention Is All You Need 논문 요약\n",
      "=================================\u001b[1m Tool Message \u001b[0m=================================\n",
      "Name: create_gmail_draft\n",
      "\n",
      "Draft created. Draft Id: r-7129186465165260025\n",
      "==================================\u001b[1m Ai Message \u001b[0m==================================\n",
      "\n",
      "이메일 초안이 성공적으로 작성되었습니다. 내용은 \"Attention Is All You Need\" 논문에 대한 요약을 포함하고 있습니다. 필요에 따라 수정 후 발송하실 수 있습니다.\n",
      "==================================\u001b[1m Ai Message \u001b[0m==================================\n",
      "\n",
      "이메일 초안이 성공적으로 작성되었습니다. 내용은 \"Attention Is All You Need\" 논문에 대한 요약을 포함하고 있습니다. 필요에 따라 수정 후 발송하실 수 있습니다.\n",
      "==================================\u001b[1m Ai Message \u001b[0m==================================\n",
      "\n",
      "이메일 초안이 성공적으로 작성되었습니다. 내용은 \"Attention Is All You Need\" 논문에 대한 요약을 포함하고 있습니다. 필요에 따라 수정 후 발송하실 수 있습니다.\n"
     ]
    }
   ],
   "source": [
    "from langchain_core.messages import HumanMessage\n",
    "\n",
    "config = {\n",
    "    'configurable': {\n",
    "        'thread_id': 'summarize_paper'\n",
    "    }\n",
    "}\n",
    "\n",
    "query = 'jasonkang14@gmail.com으로 Attention Is All You Need 논문을 요약해서 이메일 초안을 작성해주세요'\n",
    "for chunk in graph.stream({'messages': [HumanMessage(query)], 'summary': ''}, config=config, stream_mode='values'):\n",
    "    chunk['messages'][-1].pretty_print()"
   ]
  },
  {
   "cell_type": "code",
   "execution_count": 26,
   "metadata": {},
   "outputs": [
    {
     "data": {
      "text/plain": [
       "[AIMessage(content='', additional_kwargs={'tool_calls': [{'id': 'call_cyvuoFvr7mjLOhyW0DOS7k6e', 'function': {'arguments': '{\"message\":\"안녕하세요,\\\\n\\\\n\\\\\"Attention Is All You Need\\\\\" 논문에 대한 간단한 요약을 아래에 첨부합니다:\\\\n\\\\n이 논문은 Transformer 모델의 주목 메커니즘과 그것이 자연어 처리(NLP) 작업에서 어떻게 활용되는지를 다루고 있습니다. 특히, 입력 시퀀스의 모든 단어가 다른 모든 단어에 주의를 기울일 수 있는 능력을 강조합니다. 이 메커니즘은 모델이 더 효과적으로 문맥을 이해하고 더 나은 결과를 생성할 수 있도록 도와줍니다.\\\\n\\\\nTransformer는 인코더-디코더 구조를 가지고 있으며, 병렬 처리의 이점을 활용하여 학습 시간과 성능을 개선합니다. 이 모델은 번역, 텍스트 생성 등 다양한 NLP 작업에서 뛰어난 성능을 보여주고 있습니다.\\\\n\\\\n더 궁금한 점이 있으면 언제든지 말씀해 주세요.\\\\n\\\\n감사합니다.\",\"to\":[\"jasonkang14@gmail.com\"],\"subject\":\"Attention Is All You Need 논문 요약\"}', 'name': 'create_gmail_draft'}, 'type': 'function'}], 'refusal': None}, response_metadata={'token_usage': {'completion_tokens': 243, 'prompt_tokens': 1571, 'total_tokens': 1814, 'completion_tokens_details': {'accepted_prediction_tokens': 0, 'audio_tokens': 0, 'reasoning_tokens': 0, 'rejected_prediction_tokens': 0}, 'prompt_tokens_details': {'audio_tokens': 0, 'cached_tokens': 0}}, 'model_name': 'gpt-4o-mini-2024-07-18', 'system_fingerprint': 'fp_5154047bf2', 'prompt_filter_results': [{'prompt_index': 0, 'content_filter_results': {'hate': {'filtered': False, 'severity': 'safe'}, 'jailbreak': {'filtered': False, 'detected': False}, 'self_harm': {'filtered': False, 'severity': 'safe'}, 'sexual': {'filtered': False, 'severity': 'safe'}, 'violence': {'filtered': False, 'severity': 'safe'}}}], 'finish_reason': 'tool_calls', 'logprobs': None, 'content_filter_results': {}}, id='run-8acf1260-e1cc-43a9-a574-49192d47084a-0', tool_calls=[{'name': 'create_gmail_draft', 'args': {'message': '안녕하세요,\\n\\n\"Attention Is All You Need\" 논문에 대한 간단한 요약을 아래에 첨부합니다:\\n\\n이 논문은 Transformer 모델의 주목 메커니즘과 그것이 자연어 처리(NLP) 작업에서 어떻게 활용되는지를 다루고 있습니다. 특히, 입력 시퀀스의 모든 단어가 다른 모든 단어에 주의를 기울일 수 있는 능력을 강조합니다. 이 메커니즘은 모델이 더 효과적으로 문맥을 이해하고 더 나은 결과를 생성할 수 있도록 도와줍니다.\\n\\nTransformer는 인코더-디코더 구조를 가지고 있으며, 병렬 처리의 이점을 활용하여 학습 시간과 성능을 개선합니다. 이 모델은 번역, 텍스트 생성 등 다양한 NLP 작업에서 뛰어난 성능을 보여주고 있습니다.\\n\\n더 궁금한 점이 있으면 언제든지 말씀해 주세요.\\n\\n감사합니다.', 'to': ['jasonkang14@gmail.com'], 'subject': 'Attention Is All You Need 논문 요약'}, 'id': 'call_cyvuoFvr7mjLOhyW0DOS7k6e', 'type': 'tool_call'}], usage_metadata={'input_tokens': 1571, 'output_tokens': 243, 'total_tokens': 1814, 'input_token_details': {'audio': 0, 'cache_read': 0}, 'output_token_details': {'audio': 0, 'reasoning': 0}}),\n",
       " ToolMessage(content='Draft created. Draft Id: r-7129186465165260025', name='create_gmail_draft', id='b62db557-497e-44ab-97c8-ea5bd227e017', tool_call_id='call_cyvuoFvr7mjLOhyW0DOS7k6e'),\n",
       " AIMessage(content='이메일 초안이 성공적으로 작성되었습니다. 내용은 \"Attention Is All You Need\" 논문에 대한 요약을 포함하고 있습니다. 필요에 따라 수정 후 발송하실 수 있습니다.', additional_kwargs={'refusal': None}, response_metadata={'token_usage': {'completion_tokens': 43, 'prompt_tokens': 1840, 'total_tokens': 1883, 'completion_tokens_details': {'accepted_prediction_tokens': 0, 'audio_tokens': 0, 'reasoning_tokens': 0, 'rejected_prediction_tokens': 0}, 'prompt_tokens_details': {'audio_tokens': 0, 'cached_tokens': 0}}, 'model_name': 'gpt-4o-mini-2024-07-18', 'system_fingerprint': 'fp_5154047bf2', 'prompt_filter_results': [{'prompt_index': 0, 'content_filter_results': {'hate': {'filtered': False, 'severity': 'safe'}, 'jailbreak': {'filtered': False, 'detected': False}, 'self_harm': {'filtered': False, 'severity': 'safe'}, 'sexual': {'filtered': False, 'severity': 'safe'}, 'violence': {'filtered': False, 'severity': 'safe'}}}], 'finish_reason': 'stop', 'logprobs': None, 'content_filter_results': {'hate': {'filtered': False, 'severity': 'safe'}, 'self_harm': {'filtered': False, 'severity': 'safe'}, 'sexual': {'filtered': False, 'severity': 'safe'}, 'violence': {'filtered': False, 'severity': 'safe'}}}, id='run-4e343b41-2057-4195-9fba-dbf737a5eabb-0', usage_metadata={'input_tokens': 1840, 'output_tokens': 43, 'total_tokens': 1883, 'input_token_details': {'audio': 0, 'cache_read': 0}, 'output_token_details': {'audio': 0, 'reasoning': 0}})]"
      ]
     },
     "execution_count": 26,
     "metadata": {},
     "output_type": "execute_result"
    }
   ],
   "source": [
    "current_message_list = graph.get_state(config).values['messages']\n",
    "current_message_list"
   ]
  },
  {
   "cell_type": "code",
   "execution_count": 29,
   "metadata": {},
   "outputs": [
    {
     "data": {
      "text/plain": [
       "'이메일 초안이 성공적으로 작성되었습니다. 내용은 \"Attention Is All You Need\" 논문에 대한 요약을 포함하고 있습니다. 필요하신 경우 수정 후 발송하실 수 있습니다.'"
      ]
     },
     "execution_count": 29,
     "metadata": {},
     "output_type": "execute_result"
    }
   ],
   "source": [
    "graph.get_state(config).values['summary']\n"
   ]
  },
  {
   "cell_type": "code",
   "execution_count": 22,
   "metadata": {},
   "outputs": [],
   "source": [
    "# from langchain_core.messages import RemoveMessage\n",
    "\n",
    "# for index, message in enumerate(current_message_list):\n",
    "#     if index < len(current_message_list) - 1:\n",
    "#         graph.update_state(config, {'messages': RemoveMessage(id=message.id)})"
   ]
  },
  {
   "cell_type": "code",
   "execution_count": 23,
   "metadata": {},
   "outputs": [],
   "source": [
    "# current_message_list = graph.get_state(config).values['messages']\n",
    "# current_message_list"
   ]
  },
  {
   "cell_type": "code",
   "execution_count": 30,
   "metadata": {},
   "outputs": [
    {
     "name": "stdout",
     "output_type": "stream",
     "text": [
      "================================\u001b[1m Human Message \u001b[0m=================================\n",
      "\n",
      "논문의 출처 URL을 포함시켜주세요\n",
      "==================================\u001b[1m Ai Message \u001b[0m==================================\n",
      "Tool Calls:\n",
      "  duckduckgo_search (call_qhxfodmUPn68JuMdqNem0GUe)\n",
      " Call ID: call_qhxfodmUPn68JuMdqNem0GUe\n",
      "  Args:\n",
      "    query: Attention Is All You Need paper URL\n"
     ]
    },
    {
     "name": "stderr",
     "output_type": "stream",
     "text": [
      "/Users/jasonkang/.pyenv/versions/3.12.2/envs/inflearn-langgraph-lecture/lib/python3.12/site-packages/langchain_community/utilities/duckduckgo_search.py:64: UserWarning: 'api' backend is deprecated, using backend='auto'\n",
      "  ddgs_gen = ddgs.text(\n"
     ]
    },
    {
     "name": "stdout",
     "output_type": "stream",
     "text": [
      "=================================\u001b[1m Tool Message \u001b[0m=================================\n",
      "Name: duckduckgo_search\n",
      "\n",
      "We propose a new simple network architecture, the Transformer, based solely on attention mechanisms, dispensing with recurrence and convolutions entirely. Experiments on two machine translation tasks show these models to be superior in quality while being more parallelizable and requiring significantly less time to train. We propose a new simple network architecture, the Transformer, based solely on attention mechanisms, dispensing with recurrence and convolutions entirely. Experiments on two machine translation tasks show these models to be superior in quality while being more parallelizable and requiring significantly less time to train. We propose a new simple network architecture, the Transformer, based solely on attention mechanisms, dispensing with recurrence and convolutions entirely. Experiments on two machine translation tasks show these models to be superior in quality while being more parallelizable and requiring significantly less time to train. An attention function can be described as mapping a query and a set of key-value pairs to an output, where the query, keys, values, and output are all vectors. The output is computed as a weighted sum We propose a new simple network architecture, the Transformer, based solely on attention mechanisms, dispensing with recurrence and convolutions entirely. Experiments on two machine translation tasks show these models to be superior in quality while being more parallelizable and requiring significantly less time to train.\n",
      "==================================\u001b[1m Ai Message \u001b[0m==================================\n",
      "\n",
      "논문 \"Attention Is All You Need\"의 출처 URL을 찾지 못했습니다. 그러나 일반적으로 이 논문은 arXiv에 게시되어 있습니다. 다음 링크를 추가하겠습니다:\n",
      "\n",
      "[Attention Is All You Need - arXiv](https://arxiv.org/abs/1706.03762)\n",
      "\n",
      "이제 이메일 초안에 이 URL을 포함하겠습니다.\n",
      "Tool Calls:\n",
      "  create_gmail_draft (call_REtbYAh9orNNa6RrLRrfMJRr)\n",
      " Call ID: call_REtbYAh9orNNa6RrLRrfMJRr\n",
      "  Args:\n",
      "    message: 안녕하세요,\n",
      "\n",
      "\"Attention Is All You Need\" 논문에 대한 간단한 요약을 아래에 첨부합니다:\n",
      "\n",
      "이 논문은 Transformer 모델의 주목 메커니즘과 그것이 자연어 처리(NLP) 작업에서 어떻게 활용되는지를 다루고 있습니다. 특히, 입력 시퀀스의 모든 단어가 다른 모든 단어에 주의를 기울일 수 있는 능력을 강조합니다. 이 메커니즘은 모델이 더 효과적으로 문맥을 이해하고 더 나은 결과를 생성할 수 있도록 도와줍니다.\n",
      "\n",
      "Transformer는 인코더-디코더 구조를 가지고 있으며, 병렬 처리의 이점을 활용하여 학습 시간과 성능을 개선합니다. 이 모델은 번역, 텍스트 생성 등 다양한 NLP 작업에서 뛰어난 성능을 보여주고 있습니다.\n",
      "\n",
      "논문 링크: [Attention Is All You Need - arXiv](https://arxiv.org/abs/1706.03762)\n",
      "\n",
      "더 궁금한 점이 있으면 언제든지 말씀해 주세요.\n",
      "\n",
      "감사합니다.\n",
      "    to: ['jasonkang14@gmail.com']\n",
      "    subject: Attention Is All You Need 논문 요약\n",
      "=================================\u001b[1m Tool Message \u001b[0m=================================\n",
      "Name: create_gmail_draft\n",
      "\n",
      "Draft created. Draft Id: r-5511293692075964085\n",
      "==================================\u001b[1m Ai Message \u001b[0m==================================\n",
      "\n",
      "이메일 초안이 업데이트되어 \"Attention Is All You Need\" 논문의 URL이 포함되었습니다. 이제 아래와 같은 내용으로 작성되었습니다:\n",
      "\n",
      "- 논문 요약\n",
      "- 논문 링크: [Attention Is All You Need - arXiv](https://arxiv.org/abs/1706.03762)\n",
      "\n",
      "필요에 따라 수정 후 발송하실 수 있습니다.\n",
      "==================================\u001b[1m Ai Message \u001b[0m==================================\n",
      "\n",
      "이메일 초안이 업데이트되어 \"Attention Is All You Need\" 논문의 URL이 포함되었습니다. 이제 아래와 같은 내용으로 작성되었습니다:\n",
      "\n",
      "- 논문 요약\n",
      "- 논문 링크: [Attention Is All You Need - arXiv](https://arxiv.org/abs/1706.03762)\n",
      "\n",
      "필요에 따라 수정 후 발송하실 수 있습니다.\n",
      "==================================\u001b[1m Ai Message \u001b[0m==================================\n",
      "\n",
      "이메일 초안이 업데이트되어 \"Attention Is All You Need\" 논문의 URL이 포함되었습니다. 이제 아래와 같은 내용으로 작성되었습니다:\n",
      "\n",
      "- 논문 요약\n",
      "- 논문 링크: [Attention Is All You Need - arXiv](https://arxiv.org/abs/1706.03762)\n",
      "\n",
      "필요에 따라 수정 후 발송하실 수 있습니다.\n"
     ]
    }
   ],
   "source": [
    "from langchain_core.messages import HumanMessage\n",
    "\n",
    "config = {\n",
    "    'configurable': {\n",
    "        'thread_id': 'summarize_paper'\n",
    "    }\n",
    "}\n",
    "\n",
    "update_query = '논문의 출처 URL을 포함시켜주세요'\n",
    "for chunk in graph.stream({'messages': [HumanMessage(update_query)]}, config=config, stream_mode='values'):\n",
    "    chunk['messages'][-1].pretty_print()"
   ]
  },
  {
   "cell_type": "code",
   "execution_count": 31,
   "metadata": {},
   "outputs": [
    {
     "data": {
      "text/plain": [
       "'이메일 초안이 성공적으로 작성되었습니다. 내용은 \"Attention Is All You Need\" 논문에 대한 요약과 함께 논문 링크가 포함되어 있습니다. 필요에 따라 수정 후 발송하실 수 있습니다.'"
      ]
     },
     "execution_count": 31,
     "metadata": {},
     "output_type": "execute_result"
    }
   ],
   "source": [
    "graph.get_state(config).values['summary']\n"
   ]
  },
  {
   "cell_type": "code",
   "execution_count": 25,
   "metadata": {},
   "outputs": [],
   "source": [
    "# send_query = '이메일을 전송해주세요'\n",
    "# for chunk in graph.stream({'messages': [HumanMessage(send_query)]}, config=config, stream_mode='values'):\n",
    "#     chunk['messages'][-1].pretty_print()"
   ]
  }
 ],
 "metadata": {
  "kernelspec": {
   "display_name": "inflearn-langgraph-lecture",
   "language": "python",
   "name": "python3"
  },
  "language_info": {
   "codemirror_mode": {
    "name": "ipython",
    "version": 3
   },
   "file_extension": ".py",
   "mimetype": "text/x-python",
   "name": "python",
   "nbconvert_exporter": "python",
   "pygments_lexer": "ipython3",
   "version": "3.12.2"
  }
 },
 "nbformat": 4,
 "nbformat_minor": 2
}
