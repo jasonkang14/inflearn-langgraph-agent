{
 "cells": [
  {
   "cell_type": "markdown",
   "metadata": {},
   "source": [
    "# 3.8 커스텀 도구(tool)를 최대한 활용하는 방법"
   ]
  },
  {
   "cell_type": "markdown",
   "metadata": {},
   "source": [
    "- 2.7 병렬 처리를 통한 효율 개선 (feat. 프롬프트 엔지니어링) 에서 작업한 워크플로우를 에이전트로 변환\n",
    "- 작성했던 노드(node)들을 도구(tool)로 변환하여 사용합니다\n",
    "    - 도구(tool)는 고정된 기능을 수행하기 때문에 상태(state)를 활용하지 않는 경우가 많음\n"
   ]
  },
  {
   "cell_type": "code",
   "execution_count": 46,
   "metadata": {},
   "outputs": [
    {
     "data": {
      "text/plain": [
       "True"
      ]
     },
     "execution_count": 46,
     "metadata": {},
     "output_type": "execute_result"
    }
   ],
   "source": [
    "from dotenv import load_dotenv\n",
    "\n",
    "load_dotenv()"
   ]
  },
  {
   "cell_type": "markdown",
   "metadata": {},
   "source": [
    "- 도구(tool)을 활용하려면 [`AIMessage`](https://python.langchain.com/api_reference/core/messages/langchain_core.messages.ai.AIMessage.html)를 활용해야하기 때문에 상태에 `messages`가 필요함\n",
    "- 직접 선언하지 않고 랭그래프에서 제공하는 `MessagesState`를 사용"
   ]
  },
  {
   "cell_type": "code",
   "execution_count": 47,
   "metadata": {},
   "outputs": [],
   "source": [
    "\n",
    "from langgraph.graph import StateGraph, MessagesState\n",
    "\n",
    "class AgentState(MessagesState):\n",
    "    pass\n",
    "\n",
    "graph_builder = StateGraph(AgentState)"
   ]
  },
  {
   "cell_type": "code",
   "execution_count": 48,
   "metadata": {},
   "outputs": [],
   "source": [
    "import os \n",
    "\n",
    "from langchain_chroma import Chroma\n",
    "from langchain_openai import AzureOpenAIEmbeddings\n",
    "\n",
    "embedding_function = AzureOpenAIEmbeddings(\n",
    "    model='text-embedding-3-large',\n",
    "    azure_endpoint=os.getenv('AZURE_OPENAI_EMBEDDING_ENDPOINT'),\n",
    "    api_key=os.getenv('AZURE_OPENAI_EMBEDDING_API_KEY')\n",
    ")\n",
    "vector_store = Chroma(\n",
    "    embedding_function=embedding_function,\n",
    "    collection_name = 'real_estate_tax',\n",
    "    persist_directory='./real_estate_tax_collection'\n",
    ")\n",
    "retriever = vector_store.as_retriever(search_kwargs={'k': 3})"
   ]
  },
  {
   "cell_type": "code",
   "execution_count": 49,
   "metadata": {},
   "outputs": [],
   "source": [
    "query = '5억짜리 집 1채, 10억짜리 집 1채, 20억짜리 집 1채를 가지고 있을 때 세금을 얼마나 내나요?'"
   ]
  },
  {
   "cell_type": "code",
   "execution_count": 50,
   "metadata": {},
   "outputs": [
    {
     "name": "stderr",
     "output_type": "stream",
     "text": [
      "/Users/jasonkang/.pyenv/versions/3.12.2/envs/inflearn-langgraph-lecture/lib/python3.12/site-packages/langsmith/client.py:256: LangSmithMissingAPIKeyWarning: API key must be provided when using hosted LangSmith API\n",
      "  warnings.warn(\n"
     ]
    }
   ],
   "source": [
    "from langchain_openai import AzureChatOpenAI\n",
    "from langchain import hub\n",
    "from langchain_core.output_parsers import StrOutputParser\n",
    "from langchain_core.runnables import RunnablePassthrough\n",
    "from langchain_core.prompts import ChatPromptTemplate\n",
    "\n",
    "rag_prompt = hub.pull('rlm/rag-prompt')\n",
    "\n",
    "llm = AzureChatOpenAI(\n",
    "    azure_deployment='gpt-4o-2024-11-20',\n",
    "    api_version='2024-08-01-preview',   \n",
    "    temperature=0\n",
    ")\n",
    "\n",
    "small_llm = AzureChatOpenAI(\n",
    "    azure_deployment='gpt-4o-mini-2024-07-18',\n",
    "    api_version='2024-08-01-preview',\n",
    "    temperature=0\n",
    ")"
   ]
  },
  {
   "cell_type": "markdown",
   "metadata": {},
   "source": [
    "- [How to create tools](https://python.langchain.com/docs/how_to/custom_tools/)\n",
    "    - Custom 도구(tool)를 활용하려면 `@tool` decorator를 사용함\n",
    "    - 도구(tool)의 이름(함수이름)과 설명(docstring)을 정의해야함\n",
    "    - 도구(tool)의 인자를 정의해야함\n",
    "        - 인자로 사용되는 변수명도 중요함\n",
    "        - LLM이 Args를 직접 판단해서 도구를 호출하기 때문\n",
    "    - 도구(tool)의 반환값을 정의해야함  "
   ]
  },
  {
   "cell_type": "code",
   "execution_count": 51,
   "metadata": {},
   "outputs": [
    {
     "name": "stderr",
     "output_type": "stream",
     "text": [
      "/Users/jasonkang/.pyenv/versions/3.12.2/envs/inflearn-langgraph-lecture/lib/python3.12/site-packages/langsmith/client.py:256: LangSmithMissingAPIKeyWarning: API key must be provided when using hosted LangSmith API\n",
      "  warnings.warn(\n"
     ]
    }
   ],
   "source": [
    "# 필요한 라이브러리들을 임포트\n",
    "from langchain_core.output_parsers import StrOutputParser\n",
    "from langchain_core.prompts import PromptTemplate\n",
    "from langchain_core.runnables import RunnablePassthrough\n",
    "from langchain import hub\n",
    "from langchain_core.tools import tool\n",
    "rag_prompt = hub.pull(\"rlm/rag-prompt\")\n",
    "\n",
    "# 문서 포맷팅을 위한 헬퍼 함수\n",
    "def format_docs(docs):\n",
    "    return \"\\n\\n\".join(doc.page_content for doc in docs)\n",
    "\n",
    "# 세금 공제액 정보를 검색하기 위한 체인 구성\n",
    "tax_deductible_chain = (\n",
    "    {\"context\": retriever | format_docs, \"question\": RunnablePassthrough()}\n",
    "    | rag_prompt\n",
    "    | small_llm\n",
    "    | StrOutputParser()\n",
    ")\n",
    "\n",
    "# 공제액 관련 기본 질문 정의\n",
    "deductible_question = f'주택에 대한 종합부동산세 과세표준의 공제액을 알려주세요'\n",
    "\n",
    "# 사용자별 공제액 계산을 위한 프롬프트 템플릿\n",
    "user_deduction_prompt = \"\"\"아래 [Context]는 주택에 대한 종합부동산세의 공제액에 관한 내용입니다. \n",
    "사용자의 질문을 통해서 가지고 있는 주택수에 대한 공제액이 얼마인지 금액만 반환해주세요\n",
    "\n",
    "[Context]\n",
    "{tax_deductible_response}\n",
    "\n",
    "[Question]\n",
    "질문: {question}\n",
    "답변: \n",
    "\"\"\"\n",
    "\n",
    "# 프롬프트 템플릿 객체 생성\n",
    "user_deduction_prompt_template = PromptTemplate(\n",
    "    template=user_deduction_prompt,\n",
    "    input_variables=['tax_deductible_response', 'question']\n",
    ")\n",
    "\n",
    "# 사용자별 공제액 계산을 위한 체인 구성\n",
    "user_deduction_chain = (user_deduction_prompt_template\n",
    "    | small_llm\n",
    "    | StrOutputParser()\n",
    ")\n",
    "\n",
    "# 세금 공제액 계산을 위한 커스텀 도구\n",
    "@tool\n",
    "def tax_deduction_tool(question: str) -> str:\n",
    "    \"\"\"사용자의 부동산 소유 현황에 대한 질문을 기반으로 세금 공제액을 계산합니다.\n",
    "    \n",
    "    이 도구는 다음 두 단계로 작동합니다:\n",
    "    1. tax_deductible_chain을 사용하여 일반적인 세금 공제 규칙을 검색\n",
    "    2. user_deduction_chain을 사용하여 사용자의 특정 상황에 규칙을 적용\n",
    "\n",
    "    Args:\n",
    "        question (str): 부동산 소유에 대한 사용자의 질문\n",
    "        \n",
    "    Returns:\n",
    "        str: 세금 공제액 (예: '9억원', '12억원')\n",
    "    \"\"\"\n",
    "    # 일반적인 세금 공제 규칙 검색\n",
    "    tax_deductible_response = tax_deductible_chain.invoke(deductible_question)\n",
    "    \n",
    "    # 사용자의 특정 상황에 규칙 적용\n",
    "    tax_deductible = user_deduction_chain.invoke({\n",
    "        'tax_deductible_response': tax_deductible_response, \n",
    "        'question': question\n",
    "    })\n",
    "    return tax_deductible"
   ]
  },
  {
   "cell_type": "code",
   "execution_count": 52,
   "metadata": {},
   "outputs": [
    {
     "name": "stderr",
     "output_type": "stream",
     "text": [
      "/Users/jasonkang/.pyenv/versions/3.12.2/envs/inflearn-langgraph-lecture/lib/python3.12/site-packages/langsmith/client.py:256: LangSmithMissingAPIKeyWarning: API key must be provided when using hosted LangSmith API\n",
      "  warnings.warn(\n"
     ]
    }
   ],
   "source": [
    "# 사전 구축된 프롬프트를 사용하기 위해 langchain의 hub 모듈을 임포트\n",
    "from langchain import hub\n",
    "\n",
    "# hub에서 RAG(Retrieval Augmented Generation) 프롬프트 템플릿을 가져옴\n",
    "rag_prompt = hub.pull(\"rlm/rag-prompt\")\n",
    "\n",
    "def format_docs(docs):\n",
    "    \"\"\"\n",
    "    여러 문서를 하나의 문자열로 결합하는 포맷팅 함수\n",
    "    \n",
    "    Args:\n",
    "        docs: page_content를 포함하는 Document 객체 리스트\n",
    "        \n",
    "    Returns:\n",
    "        str: 줄바꿈으로 구분된 문서 내용을 하나로 합친 문자열\n",
    "    \"\"\"\n",
    "    return \"\\n\\n\".join(doc.page_content for doc in docs)\n",
    "\n",
    "# 과세표준 정보를 검색하고 처리하기 위한 체인 생성\n",
    "# 이 체인은 다음 단계로 실행됨:\n",
    "# 1. 질문을 받아 관련 문서를 검색\n",
    "# 2. format_docs를 사용하여 문서 포맷팅\n",
    "# 3. RAG 프롬프트를 통해 포맷된 컨텍스트와 질문을 처리\n",
    "# 4. LLM으로 처리 후 문자열로 파싱\n",
    "tax_base_chain = (\n",
    "    {\"context\": retriever | format_docs, \"question\": RunnablePassthrough()}\n",
    "    | rag_prompt\n",
    "    | small_llm\n",
    "    | StrOutputParser()\n",
    ")\n",
    "\n",
    "# 과세표준 계산 방법을 검색하기 위한 표준 질문 정의\n",
    "tax_base_question = '주택에 대한 종합부동산세 과세표준을 계산하는 방법은 무엇인가요? 수식으로 표현해서 수식만 반환해주세요'\n",
    "\n",
    "# @tool 데코레이터를 사용하여 과세표준 계산을 위한 커스텀 도구 정의\n",
    "@tool\n",
    "def tax_base_tool() -> str:\n",
    "    \"\"\"종합부동산세 과세표준을 계산하기 위한 공식을 검색하고 형식화합니다.\n",
    "    \n",
    "    이 도구는 RAG(Retrieval Augmented Generation) 방식을 사용하여:\n",
    "    1. 지식 베이스에서 과세표준 계산 규칙을 검색\n",
    "    2. 검색한 규칙을 수학 공식으로 형식화\n",
    "\n",
    "    Args:\n",
    "        question (str): 사용자의 질문 (미리 정의된 질문이 사용됨)\n",
    "        \n",
    "    Returns:\n",
    "        str: 과세표준 계산 공식\n",
    "    \"\"\"\n",
    "    # 미리 정의된 질문으로 tax_base_chain을 실행하여 계산 공식 획득\n",
    "    tax_base_response = tax_base_chain.invoke(tax_base_question)\n",
    "    return tax_base_response"
   ]
  },
  {
   "cell_type": "code",
   "execution_count": 53,
   "metadata": {},
   "outputs": [],
   "source": [
    "from langchain_core.prompts import PromptTemplate\n",
    "from langchain_core.output_parsers import StrOutputParser\n",
    "from datetime import datetime\n",
    "from langchain_community.tools import DuckDuckGoSearchRun\n",
    "\n",
    "# DuckDuckGo 검색 도구 초기화\n",
    "search = DuckDuckGoSearchRun()\n",
    "\n",
    "# 현재 공정시장가액비율 검색을 위한 함수\n",
    "def get_market_value_rate_search():\n",
    "    \"\"\"\n",
    "    현재 연도의 공정시장가액비율을 웹에서 검색합니다.\n",
    "    \n",
    "    Returns:\n",
    "        str: 현재 공정시장가액비율 정보를 포함한 검색 결과\n",
    "    \"\"\"\n",
    "    return search.invoke(f\"{datetime.now().year}년도 공정시장가액비율은?\")\n",
    "\n",
    "# 검색 결과 저장\n",
    "market_value_rate_search = get_market_value_rate_search()\n",
    "\n",
    "# 공정시장가액비율 추출을 위한 프롬프트 템플릿 정의\n",
    "# Context에서 관련 정보를 추출하고 사용자 상황에 맞는 비율을 반환하도록 설계\n",
    "market_value_rate_prompt = PromptTemplate.from_template(\"\"\"아래 [Context]는 공정시장가액비율에 관한 내용입니다. \n",
    "당신에게 주어진 공정시장가액비율에 관한 내용을 기반으로, 사용자의 상황에 대한 공정시장가액비율을 알려주세요.\n",
    "별도의 설명 없이 공정시장가액비율만 반환해주세요.\n",
    "\n",
    "[Context]\n",
    "{context}\n",
    "\n",
    "[Question]\n",
    "질문: {question}\n",
    "답변: \n",
    "\"\"\")\n",
    "\n",
    "# 공정시장가액비율 계산을 위한 체인 구성\n",
    "# 프롬프트 -> LLM -> 문자열 파서 순으로 처리\n",
    "market_value_rate_chain = (\n",
    "    market_value_rate_prompt\n",
    "    | small_llm\n",
    "    | StrOutputParser()\n",
    ")\n",
    "\n",
    "# 공정시장가액비율 계산을 위한 커스텀 도구\n",
    "@tool\n",
    "def market_value_rate_tool(question: str) -> str:\n",
    "    \"\"\"사용자의 부동산 상황에 적용되는 공정시장가액비율을 결정합니다.\n",
    "    \n",
    "    이 도구는:\n",
    "    1. 현재 공정시장가액비율 정보가 포함된 검색 결과를 사용\n",
    "    2. 사용자의 특정 상황(보유 부동산 수, 부동산 가치)을 분석\n",
    "    3. 적절한 공정시장가액비율을 백분율로 반환\n",
    "\n",
    "    Args:\n",
    "        question (str): 부동산 소유에 대한 사용자의 질문\n",
    "        \n",
    "    Returns:\n",
    "        str: 공정시장가액비율 백분율 (예: '60%', '45%')\n",
    "    \"\"\"\n",
    "    # 검색된 정보와 사용자 질문을 기반으로 공정시장가액비율 계산\n",
    "    market_value_rate = market_value_rate_chain.invoke({\n",
    "        'context': market_value_rate_search, \n",
    "        'question': question\n",
    "    })\n",
    "    return market_value_rate"
   ]
  },
  {
   "cell_type": "code",
   "execution_count": 54,
   "metadata": {},
   "outputs": [],
   "source": [
    "from langchain_core.prompts import ChatPromptTemplate\n",
    "\n",
    "@tool\n",
    "def house_tax_tool(tax_base_question: str, market_value_rate_question: str, tax_deductible_question: str, question: str) -> str:\n",
    "    \"\"\"수집된 모든 정보를 사용하여 최종 종합부동산세액을 계산합니다.\n",
    "    \n",
    "    이 도구는 다음 정보들을 결합하여 최종 세액을 계산합니다:\n",
    "    1. 과세표준 계산 공식\n",
    "    2. 공정시장가액비율\n",
    "    3. 공제액\n",
    "    4. 세율표\n",
    "\n",
    "    Args:\n",
    "        tax_base_question (str): 과세표준 계산 공식\n",
    "        market_value_rate_question (str): 공정시장가액비율\n",
    "        tax_deductible_question (str): 공제액\n",
    "        question (str): 부동산 세금 계산에 대한 사용자의 질문\n",
    "        \n",
    "    Returns:\n",
    "        str: 설명이 포함된 최종 세금 계산액\n",
    "    \"\"\"\n",
    "    # 세금 계산을 위한 프롬프트 템플릿 생성\n",
    "    # system 메시지에는 계산에 필요한 기본 정보들을 포함\n",
    "    # human 메시지에는 사용자의 질문을 전달\n",
    "    house_tax_prompt = ChatPromptTemplate.from_messages([\n",
    "    ('system', f'''과세표준 계산방법: {tax_base_question}\n",
    "    공정시장가액비율: {market_value_rate_question}\n",
    "    공제액: {tax_deductible_question}\n",
    "\n",
    "    위의 공식과 아래 세율에 관한 정보를 활용해서 세금을 계산해주세요.\n",
    "    세율: {{tax_rate}}\n",
    "    '''),\n",
    "        ('human', '{question}')\n",
    "    ])\n",
    "\n",
    "    # 세금 계산을 위한 체인 구성\n",
    "    # 1. retriever를 통해 세율 정보를 가져옴\n",
    "    # 2. 프롬프트에 세율 정보와 질문을 전달\n",
    "    # 3. LLM으로 계산 수행\n",
    "    # 4. 결과를 문자열로 변환\n",
    "    house_tax_chain = (\n",
    "        {\n",
    "            'tax_rate': retriever | format_docs,  # 벡터 DB에서 세율 정보 검색\n",
    "            'question': RunnablePassthrough()     # 사용자 질문 그대로 전달\n",
    "        }\n",
    "        | house_tax_prompt    # 프롬프트 템플릿에 정보 전달\n",
    "        | llm                 # LLM으로 계산 수행\n",
    "        | StrOutputParser()   # 결과를 문자열로 변환\n",
    "    )\n",
    "\n",
    "    # 체인 실행하여 최종 세금 계산 결과 반환\n",
    "    house_tax = house_tax_chain.invoke(question)\n",
    "    return house_tax"
   ]
  },
  {
   "cell_type": "markdown",
   "metadata": {},
   "source": [
    "- `node`를 추가하고 `edge`로 연결합니다\n",
    "- 하나의 `node`에서 `edge`를 활영해서 다양한 `node`들을 연결하면 병렬로 작업이 가능합니다"
   ]
  },
  {
   "cell_type": "code",
   "execution_count": 55,
   "metadata": {},
   "outputs": [],
   "source": [
    "from langgraph.prebuilt import ToolNode\n",
    "\n",
    "tool_list = [tax_deduction_tool, tax_base_tool, market_value_rate_tool, house_tax_tool]\n",
    "llm_with_tools = small_llm.bind_tools(tool_list)\n",
    "tool_node = ToolNode(tool_list)"
   ]
  },
  {
   "cell_type": "code",
   "execution_count": 56,
   "metadata": {},
   "outputs": [],
   "source": [
    "from langchain_core.messages import SystemMessage\n",
    "\n",
    "\n",
    "def agent(state: MessagesState) -> MessagesState:\n",
    "    \"\"\"\n",
    "    에이전트 함수는 주어진 상태에서 메시지를 가져와\n",
    "    LLM과 도구를 사용하여 응답 메시지를 생성합니다.\n",
    "\n",
    "    Args:\n",
    "        state (MessagesState): 메시지 상태를 포함하는 state.\n",
    "\n",
    "    Returns:\n",
    "        MessagesState: 응답 메시지를 포함하는 새로운 state.\n",
    "    \"\"\"\n",
    "    system_message_content = \"\"\"당신의 역할은 주택에 대한 종합부동산세를 계산하는 것입니다. \n",
    "    사용자의 질문이 들어오면, 사용자의 질문을 바탕으로 종합부동산세를 계산해주세요.\n",
    "    종합부동산세를 계산하기 위해서는 과세표준을 어떻게 계산할지 파악해야하고, \n",
    "    사용자에 질문에 따른 공제액을 파악해야 하고, \n",
    "    사용자에 질문에 따른 공정시장가액비율을 파악해야 합니다.\n",
    "    이 세가지를 파악하고 나면, 종합부동산세를 계산해주세요.\n",
    "    \"\"\"\n",
    "    system_message = SystemMessage(content=system_message_content)\n",
    "    messages = [system_message] + state['messages']\n",
    "    response = llm_with_tools.invoke(messages)\n",
    "    return {'messages': [response]}"
   ]
  },
  {
   "cell_type": "code",
   "execution_count": 57,
   "metadata": {},
   "outputs": [
    {
     "data": {
      "text/plain": [
       "<langgraph.graph.state.StateGraph at 0x3115aaae0>"
      ]
     },
     "execution_count": 57,
     "metadata": {},
     "output_type": "execute_result"
    }
   ],
   "source": [
    "graph_builder.add_node('agent', agent)\n",
    "graph_builder.add_node('tools', tool_node)"
   ]
  },
  {
   "cell_type": "code",
   "execution_count": 58,
   "metadata": {},
   "outputs": [
    {
     "data": {
      "text/plain": [
       "<langgraph.graph.state.StateGraph at 0x3115aaae0>"
      ]
     },
     "execution_count": 58,
     "metadata": {},
     "output_type": "execute_result"
    }
   ],
   "source": [
    "from langgraph.graph import START, END\n",
    "from langgraph.prebuilt import tools_condition\n",
    "\n",
    "\n",
    "graph_builder.add_edge(START, 'agent')\n",
    "graph_builder.add_conditional_edges(\n",
    "    'agent',\n",
    "    tools_condition\n",
    ")\n",
    "graph_builder.add_edge('tools', 'agent')"
   ]
  },
  {
   "cell_type": "code",
   "execution_count": 59,
   "metadata": {},
   "outputs": [],
   "source": [
    "graph = graph_builder.compile()"
   ]
  },
  {
   "cell_type": "code",
   "execution_count": 60,
   "metadata": {},
   "outputs": [
    {
     "data": {
      "image/png": "[encoded data removed]",
      "text/plain": [
       "<IPython.core.display.Image object>"
      ]
     },
     "metadata": {},
     "output_type": "display_data"
    }
   ],
   "source": [
    "from IPython.display import Image, display\n",
    "\n",
    "display(Image(graph.get_graph().draw_mermaid_png()))"
   ]
  },
  {
   "cell_type": "code",
   "execution_count": 61,
   "metadata": {},
   "outputs": [
    {
     "name": "stdout",
     "output_type": "stream",
     "text": [
      "================================\u001b[1m Human Message \u001b[0m=================================\n",
      "\n",
      "5억짜리 집 1채, 10억짜리 집 1채, 20억짜리 집 1채를 가지고 있을 때 세금을 얼마나 내나요?\n",
      "==================================\u001b[1m Ai Message \u001b[0m==================================\n",
      "Tool Calls:\n",
      "  tax_deduction_tool (call_SwErzN8YSx1UP9sgtZznxSjU)\n",
      " Call ID: call_SwErzN8YSx1UP9sgtZznxSjU\n",
      "  Args:\n",
      "    question: 5억짜리 집 1채, 10억짜리 집 1채, 20억짜리 집 1채를 가지고 있을 때 세금 공제액은 얼마인가요?\n",
      "  tax_base_tool (call_Sdm45n5hQ8crytm7kIV8WFjL)\n",
      " Call ID: call_Sdm45n5hQ8crytm7kIV8WFjL\n",
      "  Args:\n",
      "  market_value_rate_tool (call_OTUXv8vlvJDySbKAJnqAt7Bc)\n",
      " Call ID: call_OTUXv8vlvJDySbKAJnqAt7Bc\n",
      "  Args:\n",
      "    question: 5억짜리 집 1채, 10억짜리 집 1채, 20억짜리 집 1채를 가지고 있을 때 공정시장가액비율은 얼마인가요?\n",
      "=================================\u001b[1m Tool Message \u001b[0m=================================\n",
      "Name: market_value_rate_tool\n",
      "\n",
      "60%\n",
      "==================================\u001b[1m Ai Message \u001b[0m==================================\n",
      "Tool Calls:\n",
      "  house_tax_tool (call_hUtexhUvVTCHaEccg9pUWfyz)\n",
      " Call ID: call_hUtexhUvVTCHaEccg9pUWfyz\n",
      "  Args:\n",
      "    tax_base_question: 과세표준 = (주택의 공시가격 합산 - 공제액) × 공정시장가액비율\n",
      "    market_value_rate_question: 60%\n",
      "    tax_deductible_question: 9억원\n",
      "    question: 5억짜리 집 1채, 10억짜리 집 1채, 20억짜리 집 1채를 가지고 있을 때 세금은 얼마인가요?\n",
      "=================================\u001b[1m Tool Message \u001b[0m=================================\n",
      "Name: house_tax_tool\n",
      "\n",
      "주어진 조건에 따라 종합부동산세를 계산해 보겠습니다. \n",
      "\n",
      "### 1. **주어진 정보**\n",
      "- 주택 3채: 5억 원, 10억 원, 20억 원\n",
      "- 공정시장가액비율: 60%\n",
      "- 공제액: 9억 원\n",
      "- 주택 수: 3채 (3주택 이상 소유자에 해당)\n",
      "\n",
      "---\n",
      "\n",
      "### 2. **과세표준 계산**\n",
      "1. **주택의 공시가격 합산**  \n",
      "   \\( 5억 + 10억 + 20억 = 35억 원 \\)\n",
      "\n",
      "2. **공제액 차감**  \n",
      "   \\( 35억 - 9억 = 26억 원 \\)\n",
      "\n",
      "3. **공정시장가액비율 적용**  \n",
      "   \\( 26억 × 60\\% = 15.6억 원 \\)\n",
      "\n",
      "따라서, **과세표준은 15.6억 원**입니다.\n",
      "\n",
      "---\n",
      "\n",
      "### 3. **세율 적용 (3주택 이상 소유자 기준)**\n",
      "\n",
      "과세표준 15.6억 원은 **12억 원 초과 25억 원 이하** 구간에 해당합니다.  \n",
      "이 구간의 세율은 다음과 같습니다:\n",
      "\\[\n",
      "960만 원 + (12억 원 초과 금액 × 1천분의 20)\n",
      "\\]\n",
      "\n",
      "1. **12억 원 초과 금액 계산**  \n",
      "   \\( 15.6억 - 12억 = 3.6억 원 \\)\n",
      "\n",
      "2. **초과 금액에 세율 적용**  \n",
      "   \\( 3.6억 × 0.002 = 720만 원 \\)\n",
      "\n",
      "3. **기본 세액과 합산**  \n",
      "   \\( 960만 원 + 720만 원 = 1,680만 원 \\)\n",
      "\n",
      "---\n",
      "\n",
      "### 4. **최종 세금**\n",
      "주택 3채(5억, 10억, 20억)를 소유한 경우, **종합부동산세는 1,680만 원**입니다.\n",
      "==================================\u001b[1m Ai Message \u001b[0m==================================\n",
      "\n",
      "주어진 조건에 따라 종합부동산세를 계산해 보겠습니다. \n",
      "\n",
      "### 1. **주어진 정보**\n",
      "- 주택 3채: 5억 원, 10억 원, 20억 원\n",
      "- 공정시장가액비율: 60%\n",
      "- 공제액: 9억 원\n",
      "- 주택 수: 3채 (3주택 이상 소유자에 해당)\n",
      "\n",
      "---\n",
      "\n",
      "### 2. **과세표준 계산**\n",
      "1. **주택의 공시가격 합산**  \n",
      "   \\( 5억 + 10억 + 20억 = 35억 원 \\)\n",
      "\n",
      "2. **공제액 차감**  \n",
      "   \\( 35억 - 9억 = 26억 원 \\)\n",
      "\n",
      "3. **공정시장가액비율 적용**  \n",
      "   \\( 26억 × 60\\% = 15.6억 원 \\)\n",
      "\n",
      "따라서, **과세표준은 15.6억 원**입니다.\n",
      "\n",
      "---\n",
      "\n",
      "### 3. **세율 적용 (3주택 이상 소유자 기준)**\n",
      "\n",
      "과세표준 15.6억 원은 **12억 원 초과 25억 원 이하** 구간에 해당합니다.  \n",
      "이 구간의 세율은 다음과 같습니다:\n",
      "\\[\n",
      "960만 원 + (12억 원 초과 금액 × 1천분의 20)\n",
      "\\]\n",
      "\n",
      "1. **12억 원 초과 금액 계산**  \n",
      "   \\( 15.6억 - 12억 = 3.6억 원 \\)\n",
      "\n",
      "2. **초과 금액에 세율 적용**  \n",
      "   \\( 3.6억 × 0.002 = 720만 원 \\)\n",
      "\n",
      "3. **기본 세액과 합산**  \n",
      "   \\( 960만 원 + 720만 원 = 1,680만 원 \\)\n",
      "\n",
      "---\n",
      "\n",
      "### 4. **최종 세금**\n",
      "주택 3채(5억, 10억, 20억)를 소유한 경우, **종합부동산세는 1,680만 원**입니다.\n"
     ]
    }
   ],
   "source": [
    "from langchain_core.messages import HumanMessage\n",
    "\n",
    "for chunk in graph.stream({'messages': [HumanMessage(query)]}, stream_mode='values'):\n",
    "    chunk['messages'][-1].pretty_print()"
   ]
  },
  {
   "cell_type": "code",
   "execution_count": null,
   "metadata": {},
   "outputs": [],
   "source": []
  }
 ],
 "metadata": {
  "kernelspec": {
   "display_name": "inflearn-langgraph-lecture",
   "language": "python",
   "name": "python3"
  },
  "language_info": {
   "codemirror_mode": {
    "name": "ipython",
    "version": 3
   },
   "file_extension": ".py",
   "mimetype": "text/x-python",
   "name": "python",
   "nbconvert_exporter": "python",
   "pygments_lexer": "ipython3",
   "version": "3.12.2"
  }
 },
 "nbformat": 4,
 "nbformat_minor": 2
}
