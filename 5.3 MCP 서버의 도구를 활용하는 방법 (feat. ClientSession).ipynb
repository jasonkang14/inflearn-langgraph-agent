{
 "cells": [
  {
   "cell_type": "markdown",
   "metadata": {},
   "source": [
    "# 4.2 MCP 서버의 도구를 활용하는 방법"
   ]
  },
  {
   "cell_type": "markdown",
   "metadata": {},
   "source": [
    "- 3.8 커스텀 도구(tool)를 최대한 활용하는 방법에서 생성한 에이전트가 활용하는 도구를 [MCP 서버](https://github.com/modelcontextprotocol/servers)로 이전\n",
    "\n"
   ]
  },
  {
   "cell_type": "code",
   "execution_count": 1,
   "metadata": {},
   "outputs": [
    {
     "data": {
      "text/plain": [
       "True"
      ]
     },
     "execution_count": 1,
     "metadata": {},
     "output_type": "execute_result"
    }
   ],
   "source": [
    "from dotenv import load_dotenv\n",
    "\n",
    "load_dotenv()"
   ]
  },
  {
   "cell_type": "markdown",
   "metadata": {},
   "source": [
    "- 도구(tool)을 활용하려면 [`AIMessage`](https://python.langchain.com/api_reference/core/messages/langchain_core.messages.ai.AIMessage.html)를 활용해야하기 때문에 상태에 `messages`가 필요함\n",
    "- 직접 선언하지 않고 랭그래프에서 제공하는 `MessagesState`를 사용"
   ]
  },
  {
   "cell_type": "code",
   "execution_count": 2,
   "metadata": {},
   "outputs": [],
   "source": [
    "\n",
    "from langgraph.graph import StateGraph, MessagesState\n",
    "\n",
    "class AgentState(MessagesState):\n",
    "    pass\n",
    "\n",
    "graph_builder = StateGraph(AgentState)"
   ]
  },
  {
   "cell_type": "code",
   "execution_count": 3,
   "metadata": {},
   "outputs": [],
   "source": [
    "query = '5억짜리 집 1채, 10억짜리 집 1채, 20억짜리 집 1채를 가지고 있을 때 세금을 얼마나 내나요?'"
   ]
  },
  {
   "cell_type": "code",
   "execution_count": 4,
   "metadata": {},
   "outputs": [],
   "source": [
    "from langchain_openai import AzureChatOpenAI\n",
    "\n",
    "llm = AzureChatOpenAI(\n",
    "    azure_deployment='gpt-4o-2024-11-20',\n",
    "    api_version='2024-08-01-preview',   \n",
    "    temperature=0\n",
    ")"
   ]
  },
  {
   "cell_type": "markdown",
   "metadata": {},
   "source": [
    "- MCP 서버와 연결하기 위한 MCP 클라이언트 생성\n",
    "    - LangChain에서 제공하는 [langchain-mcp-adapters](https://github.com/langchain-ai/langchain-mcp-adapters)활용\n",
    "    - `MultiServerMCPClient`를 활용하면 복수의 MCP 서버와 연결할 수 있음"
   ]
  },
  {
   "cell_type": "code",
   "execution_count": 5,
   "metadata": {},
   "outputs": [],
   "source": [
    "from mcp import ClientSession, StdioServerParameters\n",
    "from mcp.client.stdio import stdio_client\n",
    "\n",
    "mcp_server_params = StdioServerParameters(\n",
    "    command=\"python\",\n",
    "    # Make sure to update to the full absolute path to your math_server.py file\n",
    "    args=[\"./mcp_stdio_server.py\"],\n",
    ")\n",
    "# await mcp_client.connect_to_server_via_sse(server_name='house_tax_tools', url='http://localhost:6277/sse')\n",
    "# await mcp_client.connect_to_server(server_name='house_tax_tools', transport=\"sse\", url='http://localhost:6277/sse')\n"
   ]
  },
  {
   "cell_type": "code",
   "execution_count": 6,
   "metadata": {},
   "outputs": [],
   "source": [
    "async def process_stream(stream_generator):\n",
    "    results = []\n",
    "    try:\n",
    "        async for chunk in stream_generator:\n",
    "\n",
    "            key = list(chunk.keys())[0]\n",
    "            \n",
    "            if key == 'agent':\n",
    "                # Agent 메시지의 내용을 가져옴. 메세지가 비어있는 경우 어떤 도구를 어떻게 호출할지 정보를 가져옴\n",
    "                content = chunk['agent']['messages'][0].content if chunk['agent']['messages'][0].content != '' else chunk['agent']['messages'][0].additional_kwargs\n",
    "                print(f\"'agent': '{content}'\")\n",
    "            \n",
    "            elif key == 'tools':\n",
    "                # 도구 메시지의 내용을 가져옴\n",
    "                for tool_msg in chunk['tools']['messages']:\n",
    "                    print(f\"'tools': '{tool_msg.content}'\")\n",
    "            \n",
    "            results.append(chunk)\n",
    "        return results\n",
    "    except Exception as e:\n",
    "        print(f\"Error processing stream: {e}\")\n",
    "        return results"
   ]
  },
  {
   "cell_type": "code",
   "execution_count": 7,
   "metadata": {},
   "outputs": [],
   "source": [
    "from langchain_mcp_adapters.tools import load_mcp_tools\n",
    "from langchain_mcp_adapters.prompts import load_mcp_prompt\n",
    "from langchain_core.messages import HumanMessage\n",
    "from langgraph.prebuilt import create_react_agent\n",
    "\n",
    "async def run_agent():\n",
    "    async with stdio_client(mcp_server_params) as (read, write):\n",
    "        async with ClientSession(read, write) as session:\n",
    "            await session.initialize()\n",
    "\n",
    "            ##### AGENT #####\n",
    "            tool_list = await load_mcp_tools(session)\n",
    "            agent = create_react_agent(llm, tool_list)\n",
    "            query = '5억짜리 집 1채, 10억짜리 집 1채, 20억짜리 집 1채를 가지고 있을 때 세금을 얼마나 내나요?'\n",
    "            print(\"=====PROMPT=====\")\n",
    "            system_prompt = await load_mcp_prompt(\n",
    "                session, \"house_tax_system_prompt\", arguments={}\n",
    "            )\n",
    "            print(\"system_prompt : \", system_prompt)\n",
    "            messages = system_prompt + [HumanMessage(content=query)]\n",
    "            # response = await agent.ainvoke({\"messages\": messages})\n",
    "            # response = await agent.ainvoke({\"messages\": user_input})\n",
    "\n",
    "            # print(response)\n",
    "            print(\"=====RESPONSE=====\")\n",
    "            stream_generator = agent.astream({'messages': [HumanMessage(content=query)]})\n",
    "\n",
    "\n",
    "            all_chunks = await process_stream(stream_generator)\n",
    "\n",
    "\n",
    "            if all_chunks:\n",
    "                final_result = all_chunks[-1]\n",
    "                print(\"\\nFinal result:\", final_result)"
   ]
  },
  {
   "cell_type": "code",
   "execution_count": 8,
   "metadata": {},
   "outputs": [],
   "source": [
    "import nest_asyncio\n",
    "nest_asyncio.apply()"
   ]
  },
  {
   "cell_type": "code",
   "execution_count": 9,
   "metadata": {},
   "outputs": [
    {
     "name": "stdout",
     "output_type": "stream",
     "text": [
      "=====PROMPT=====\n",
      "system_prompt :  [HumanMessage(content='당신의 역할은 주택에 대한 종합부동산세를 계산하는 것입니다. \\n    사용자의 질문이 들어오면, 사용자의 질문을 바탕으로 종합부동산세를 계산해주세요.\\n    종합부동산세를 계산하기 위해서는 과세표준을 어떻게 계산할지 파악해야하고, \\n    사용자에 질문에 따른 공제액을 파악해야 하고, \\n    사용자에 질문에 따른 공정시장가액비율을 파악해야 합니다.\\n    이 세가지를 파악하고 나면, 종합부동산세를 계산해주세요.\\n    ', additional_kwargs={}, response_metadata={})]\n",
      "=====RESPONSE=====\n",
      "'agent': '{'tool_calls': [{'id': 'call_c2A6APsmib8qzJyzmkPAb59P', 'function': {'arguments': '{}', 'name': 'tax_base_tool'}, 'type': 'function'}, {'id': 'call_Fdb0DyvasxgjSb1cdoHam2La', 'function': {'arguments': '{\"question\": \"5억짜리 집 1채, 10억짜리 집 1채, 20억짜리 집 1채를 가지고 있을 때 공정시장가액비율은 얼마인가요?\"}', 'name': 'market_value_rate_tool'}, 'type': 'function'}, {'id': 'call_kXXrstuwI562YPkzzHz7RK5v', 'function': {'arguments': '{\"question\": \"5억짜리 집 1채, 10억짜리 집 1채, 20억짜리 집 1채를 가지고 있을 때 공제액은 얼마인가요?\"}', 'name': 'tax_deductible_tool'}, 'type': 'function'}], 'refusal': None}'\n",
      "'tools': '과세표준 = (주택의 공시가격 합산 - 공제금액) × 공정시장가액비율'\n",
      "'tools': '공정시장가액비율은 60%입니다.'\n",
      "'tools': '공제액은 9억 원입니다.'\n",
      "'agent': '{'tool_calls': [{'id': 'call_ugFQurdNn7WidCRphRCYcnRs', 'function': {'arguments': '{\"tax_base_question\":\"과세표준 = (주택의 공시가격 합산 - 공제금액) × 공정시장가액비율\",\"market_value_rate\":\"60%\",\"tax_deductible\":\"9억원\",\"question\":\"5억짜리 집 1채, 10억짜리 집 1채, 20억짜리 집 1채를 가지고 있을 때 세금을 얼마나 내나요?\"}', 'name': 'house_tax_tool'}, 'type': 'function'}], 'refusal': None}'\n",
      "'tools': '주어진 조건에 따라 종합부동산세를 계산해 보겠습니다. \n",
      "\n",
      "### 1. 주어진 정보\n",
      "- 주택 3채: 5억 원, 10억 원, 20억 원\n",
      "- 공정시장가액비율: 60%\n",
      "- 공제액: 9억 원\n",
      "- 주택 수: 3채 (3주택 이상 소유자에 해당)\n",
      "\n",
      "### 2. 과세표준 계산\n",
      "과세표준 공식:\n",
      "\\[\n",
      "\\text{과세표준} = (\\text{주택의 공시가격 합산} - \\text{공제액}) \\times \\text{공정시장가액비율}\n",
      "\\]\n",
      "\n",
      "1. 주택의 공시가격 합산:\n",
      "\\[\n",
      "5억 + 10억 + 20억 = 35억 원\n",
      "\\]\n",
      "\n",
      "2. 공제액:\n",
      "\\[\n",
      "35억 - 9억 = 26억 원\n",
      "\\]\n",
      "\n",
      "3. 공정시장가액비율 적용:\n",
      "\\[\n",
      "26억 \\times 0.6 = 15.6억 원\n",
      "\\]\n",
      "\n",
      "따라서, 과세표준은 **15.6억 원**입니다.\n",
      "\n",
      "---\n",
      "\n",
      "### 3. 세율 적용 (3주택 이상 소유자 기준)\n",
      "과세표준이 15.6억 원이므로, 아래 세율표를 참고합니다.\n",
      "\n",
      "| 과세표준              | 세율                                  |\n",
      "|---------------------|-------------------------------------|\n",
      "| 12억 원 초과 25억 원 이하 | 960만 원 + (12억 원을 초과하는 금액의 1천분의 20)|\n",
      "\n",
      "1. 12억 원 초과 금액:\n",
      "\\[\n",
      "15.6억 - 12억 = 3.6억 원\n",
      "\\]\n",
      "\n",
      "2. 초과 금액에 대한 세율 적용:\n",
      "\\[\n",
      "3.6억 \\times 0.002 = 720만 원\n",
      "\\]\n",
      "\n",
      "3. 기본 세액과 합산:\n",
      "\\[\n",
      "960만 원 + 720만 원 = 1,680만 원\n",
      "\\]\n",
      "\n",
      "---\n",
      "\n",
      "### 4. 최종 세금\n",
      "주택 3채(5억, 10억, 20억)를 소유한 경우, **종합부동산세는 1,680만 원**입니다.'\n",
      "'agent': '주택 3채(5억, 10억, 20억)를 소유한 경우, 종합부동산세는 **1,680만 원**입니다. \n",
      "\n",
      "### 계산 과정 요약:\n",
      "1. **주택 공시가격 합산**: 35억 원\n",
      "2. **공제액**: 9억 원\n",
      "3. **공정시장가액비율**: 60%\n",
      "4. **과세표준**: 15.6억 원\n",
      "5. **세율 적용**: 1,680만 원\n",
      "\n",
      "추가 질문이 있으시면 알려주세요!'\n",
      "\n",
      "Final result: {'agent': {'messages': [AIMessage(content='주택 3채(5억, 10억, 20억)를 소유한 경우, 종합부동산세는 **1,680만 원**입니다. \\n\\n### 계산 과정 요약:\\n1. **주택 공시가격 합산**: 35억 원\\n2. **공제액**: 9억 원\\n3. **공정시장가액비율**: 60%\\n4. **과세표준**: 15.6억 원\\n5. **세율 적용**: 1,680만 원\\n\\n추가 질문이 있으시면 알려주세요!', additional_kwargs={'refusal': None}, response_metadata={'token_usage': {'completion_tokens': 132, 'prompt_tokens': 1547, 'total_tokens': 1679, 'completion_tokens_details': {'accepted_prediction_tokens': 0, 'audio_tokens': 0, 'reasoning_tokens': 0, 'rejected_prediction_tokens': 0}, 'prompt_tokens_details': {'audio_tokens': 0, 'cached_tokens': 0}}, 'model_name': 'gpt-4o-2024-11-20', 'system_fingerprint': 'fp_ee1d74bde0', 'prompt_filter_results': [{'prompt_index': 0, 'content_filter_results': {'hate': {'filtered': False, 'severity': 'safe'}, 'jailbreak': {'filtered': False, 'detected': False}, 'self_harm': {'filtered': False, 'severity': 'safe'}, 'sexual': {'filtered': False, 'severity': 'safe'}, 'violence': {'filtered': False, 'severity': 'safe'}}}], 'finish_reason': 'stop', 'logprobs': None, 'content_filter_results': {'hate': {'filtered': False, 'severity': 'safe'}, 'protected_material_code': {'filtered': False, 'detected': False}, 'protected_material_text': {'filtered': False, 'detected': False}, 'self_harm': {'filtered': False, 'severity': 'safe'}, 'sexual': {'filtered': False, 'severity': 'safe'}, 'violence': {'filtered': False, 'severity': 'safe'}}}, id='run-8ec483cd-7a9b-478d-b8af-f7962565788a-0', usage_metadata={'input_tokens': 1547, 'output_tokens': 132, 'total_tokens': 1679, 'input_token_details': {'audio': 0, 'cache_read': 0}, 'output_token_details': {'audio': 0, 'reasoning': 0}})]}}\n"
     ]
    }
   ],
   "source": [
    "import asyncio\n",
    "\n",
    "asyncio.run(run_agent())"
   ]
  },
  {
   "cell_type": "code",
   "execution_count": null,
   "metadata": {},
   "outputs": [],
   "source": []
  }
 ],
 "metadata": {
  "kernelspec": {
   "display_name": ".venv",
   "language": "python",
   "name": "python3"
  },
  "language_info": {
   "codemirror_mode": {
    "name": "ipython",
    "version": 3
   },
   "file_extension": ".py",
   "mimetype": "text/x-python",
   "name": "python",
   "nbconvert_exporter": "python",
   "pygments_lexer": "ipython3",
   "version": "3.13.2"
  }
 },
 "nbformat": 4,
 "nbformat_minor": 2
}
