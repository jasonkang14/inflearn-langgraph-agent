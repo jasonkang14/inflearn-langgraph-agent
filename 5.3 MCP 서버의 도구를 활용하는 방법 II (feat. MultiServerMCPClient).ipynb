{
 "cells": [
  {
   "cell_type": "markdown",
   "metadata": {},
   "source": [
    "# 4.2 MCP 서버의 도구를 활용하는 방법"
   ]
  },
  {
   "cell_type": "markdown",
   "metadata": {},
   "source": [
    "- 3.8 커스텀 도구(tool)를 최대한 활용하는 방법에서 생성한 에이전트가 활용하는 도구를 [MCP 서버](https://github.com/modelcontextprotocol/servers)로 이전\n",
    "\n"
   ]
  },
  {
   "cell_type": "code",
   "execution_count": 1,
   "metadata": {},
   "outputs": [
    {
     "data": {
      "text/plain": [
       "True"
      ]
     },
     "execution_count": 1,
     "metadata": {},
     "output_type": "execute_result"
    }
   ],
   "source": [
    "from dotenv import load_dotenv\n",
    "\n",
    "load_dotenv()"
   ]
  },
  {
   "cell_type": "markdown",
   "metadata": {},
   "source": [
    "- 도구(tool)을 활용하려면 [`AIMessage`](https://python.langchain.com/api_reference/core/messages/langchain_core.messages.ai.AIMessage.html)를 활용해야하기 때문에 상태에 `messages`가 필요함\n",
    "- 직접 선언하지 않고 랭그래프에서 제공하는 `MessagesState`를 사용"
   ]
  },
  {
   "cell_type": "code",
   "execution_count": 2,
   "metadata": {},
   "outputs": [],
   "source": [
    "\n",
    "from langgraph.graph import StateGraph, MessagesState\n",
    "\n",
    "class AgentState(MessagesState):\n",
    "    pass\n",
    "\n",
    "graph_builder = StateGraph(AgentState)"
   ]
  },
  {
   "cell_type": "code",
   "execution_count": 3,
   "metadata": {},
   "outputs": [],
   "source": [
    "query = '5억짜리 집 1채, 10억짜리 집 1채, 20억짜리 집 1채를 가지고 있을 때 세금을 얼마나 내나요?'"
   ]
  },
  {
   "cell_type": "code",
   "execution_count": 4,
   "metadata": {},
   "outputs": [],
   "source": [
    "from langchain_openai import AzureChatOpenAI\n",
    "\n",
    "llm = AzureChatOpenAI(\n",
    "    azure_deployment='gpt-4o-2024-11-20',\n",
    "    api_version='2024-08-01-preview',   \n",
    "    temperature=0\n",
    ")"
   ]
  },
  {
   "cell_type": "markdown",
   "metadata": {},
   "source": [
    "- MCP 서버와 연결하기 위한 MCP 클라이언트 생성\n",
    "    - LangChain에서 제공하는 [langchain-mcp-adapters](https://github.com/langchain-ai/langchain-mcp-adapters)활용\n",
    "    - `MultiServerMCPClient`를 활용하면 복수의 MCP 서버와 연결할 수 있음"
   ]
  },
  {
   "cell_type": "code",
   "execution_count": 5,
   "metadata": {},
   "outputs": [],
   "source": [
    "async def process_stream(stream_generator):\n",
    "    results = []\n",
    "    try:\n",
    "        async for chunk in stream_generator:\n",
    "\n",
    "            key = list(chunk.keys())[0]\n",
    "            \n",
    "            if key == 'agent':\n",
    "                # Agent 메시지의 내용을 가져옴. 메세지가 비어있는 경우 어떤 도구를 어떻게 호출할지 정보를 가져옴\n",
    "                content = chunk['agent']['messages'][0].content if chunk['agent']['messages'][0].content != '' else chunk['agent']['messages'][0].additional_kwargs\n",
    "                print(f\"'agent': '{content}'\")\n",
    "            \n",
    "            elif key == 'tools':\n",
    "                # 도구 메시지의 내용을 가져옴\n",
    "                for tool_msg in chunk['tools']['messages']:\n",
    "                    print(f\"'tools': '{tool_msg.content}'\")\n",
    "            \n",
    "            results.append(chunk)\n",
    "        return results\n",
    "    except Exception as e:\n",
    "        print(f\"Error processing stream: {e}\")\n",
    "        return results"
   ]
  },
  {
   "cell_type": "code",
   "execution_count": 8,
   "metadata": {},
   "outputs": [
    {
     "name": "stdout",
     "output_type": "stream",
     "text": [
      "=====PROMPT=====\n",
      "system_prompt :  [HumanMessage(content='당신의 역할은 주택에 대한 종합부동산세를 계산하는 것입니다. \\n    사용자의 질문이 들어오면, 사용자의 질문을 바탕으로 종합부동산세를 계산해주세요.\\n    종합부동산세를 계산하기 위해서는 과세표준을 어떻게 계산할지 파악해야하고, \\n    사용자에 질문에 따른 공제액을 파악해야 하고, \\n    사용자에 질문에 따른 공정시장가액비율을 파악해야 합니다.\\n    이 세가지를 파악하고 나면, 종합부동산세를 계산해주세요.\\n    ', additional_kwargs={}, response_metadata={})]\n",
      "=====RESPONSE=====\n"
     ]
    },
    {
     "name": "stderr",
     "output_type": "stream",
     "text": [
      "/var/folders/qj/q193qt6n5blc2wppqrq7477r0000gn/T/ipykernel_13516/2116909386.py:23: RuntimeWarning: coroutine 'MultiServerMCPClient.get_prompt' was never awaited\n",
      "  system_prompt = await client.get_prompt(server_name=\"house_tax\", prompt_name=\"house_tax_system_prompt\", arguments={})\n",
      "RuntimeWarning: Enable tracemalloc to get the object allocation traceback\n"
     ]
    },
    {
     "name": "stdout",
     "output_type": "stream",
     "text": [
      "'agent': '{'tool_calls': [{'id': 'call_8yFKmsUpYRvhpl0uDNOXAGb9', 'function': {'arguments': '{}', 'name': 'tax_base_tool'}, 'type': 'function'}, {'id': 'call_m6aNpnBKOGYuwxRVswhCQNyl', 'function': {'arguments': '{\"question\": \"5억짜리 집 1채, 10억짜리 집 1채, 20억짜리 집 1채를 가지고 있을 때 공정시장가액비율은 얼마인가요?\"}', 'name': 'market_value_rate_tool'}, 'type': 'function'}, {'id': 'call_B7l8y0SYImBroO6VWryDer5F', 'function': {'arguments': '{\"question\": \"5억짜리 집 1채, 10억짜리 집 1채, 20억짜리 집 1채를 가지고 있을 때 공제액은 얼마인가요?\"}', 'name': 'tax_deductible_tool'}, 'type': 'function'}], 'refusal': None}'\n",
      "'tools': '과세표준 = (주택의 공시가격 합산 - 공제금액) × 공정시장가액비율'\n",
      "'tools': '공정시장가액비율은 60%입니다.'\n",
      "'tools': '9억 원'\n",
      "'agent': '{'tool_calls': [{'id': 'call_6X3p6y4evfK6ftRNZnEL1PZT', 'function': {'arguments': '{\"tax_base_question\":\"과세표준 = (주택의 공시가격 합산 - 공제금액) × 공정시장가액비율\",\"market_value_rate\":\"60%\",\"tax_deductible\":\"9억원\",\"question\":\"5억짜리 집 1채, 10억짜리 집 1채, 20억짜리 집 1채를 가지고 있을 때 세금을 얼마나 내나요?\"}', 'name': 'house_tax_tool'}, 'type': 'function'}], 'refusal': None}'\n",
      "'tools': '주어진 정보를 바탕으로 종합부동산세를 계산해 보겠습니다. \n",
      "\n",
      "### 1. 주택 공시가격 합산\n",
      "주택의 공시가격을 모두 합산합니다:\n",
      "- 5억 원 + 10억 원 + 20억 원 = **35억 원**\n",
      "\n",
      "### 2. 공제금액\n",
      "납세의무자가 2주택 이하를 소유한 경우 공제금액은 9억 원입니다. 하지만, 납세의무자가 **3주택 이상**을 소유한 경우 공제금액은 적용되지 않습니다. 따라서 공제금액은 **0원**입니다.\n",
      "\n",
      "### 3. 과세표준 계산\n",
      "과세표준 = (주택의 공시가격 합산 - 공제금액) × 공정시장가액비율  \n",
      "공정시장가액비율은 60%입니다.  \n",
      "따라서:\n",
      "- 과세표준 = 35억 원 × 60% = **21억 원**\n",
      "\n",
      "### 4. 세율 적용\n",
      "납세의무자가 **3주택 이상**을 소유한 경우의 세율표를 사용합니다.  \n",
      "과세표준이 **21억 원**이므로, 해당하는 구간은 **12억 원 초과 25억 원 이하**입니다.  \n",
      "이 구간의 세율은 다음과 같습니다:\n",
      "- 960만 원 + (12억 원을 초과하는 금액 × 1천분의 20)\n",
      "\n",
      "초과 금액:\n",
      "- 21억 원 - 12억 원 = **9억 원**\n",
      "\n",
      "추가 세액:\n",
      "- 9억 원 × 0.002 = **180만 원**\n",
      "\n",
      "총 세액:\n",
      "- 960만 원 + 180만 원 = **1,140만 원**\n",
      "\n",
      "### 최종 결과\n",
      "종합부동산세는 **1,140만 원**입니다.'\n",
      "'agent': '5억 원짜리 집 1채, 10억 원짜리 집 1채, 20억 원짜리 집 1채를 소유한 경우, 종합부동산세는 **1,140만 원**입니다. \n",
      "\n",
      "계산 과정은 다음과 같습니다:\n",
      "1. 주택 공시가격 합산: 35억 원\n",
      "2. 공제금액: 3주택 이상 소유로 인해 공제 없음\n",
      "3. 과세표준: 35억 원 × 60% = 21억 원\n",
      "4. 세율 적용: 12억 원 초과분에 대해 추가 세액 계산 후 총 세액은 1,140만 원\n",
      "\n",
      "추가 질문이 있으시면 알려주세요!'\n",
      "\n",
      "Final result: {'agent': {'messages': [AIMessage(content='5억 원짜리 집 1채, 10억 원짜리 집 1채, 20억 원짜리 집 1채를 소유한 경우, 종합부동산세는 **1,140만 원**입니다. \\n\\n계산 과정은 다음과 같습니다:\\n1. 주택 공시가격 합산: 35억 원\\n2. 공제금액: 3주택 이상 소유로 인해 공제 없음\\n3. 과세표준: 35억 원 × 60% = 21억 원\\n4. 세율 적용: 12억 원 초과분에 대해 추가 세액 계산 후 총 세액은 1,140만 원\\n\\n추가 질문이 있으시면 알려주세요!', additional_kwargs={'refusal': None}, response_metadata={'token_usage': {'completion_tokens': 160, 'prompt_tokens': 1436, 'total_tokens': 1596, 'completion_tokens_details': {'accepted_prediction_tokens': 0, 'audio_tokens': 0, 'reasoning_tokens': 0, 'rejected_prediction_tokens': 0}, 'prompt_tokens_details': {'audio_tokens': 0, 'cached_tokens': 0}}, 'model_name': 'gpt-4o-2024-11-20', 'system_fingerprint': 'fp_ee1d74bde0', 'prompt_filter_results': [{'prompt_index': 0, 'content_filter_results': {'hate': {'filtered': False, 'severity': 'safe'}, 'jailbreak': {'filtered': False, 'detected': False}, 'self_harm': {'filtered': False, 'severity': 'safe'}, 'sexual': {'filtered': False, 'severity': 'safe'}, 'violence': {'filtered': False, 'severity': 'safe'}}}], 'finish_reason': 'stop', 'logprobs': None, 'content_filter_results': {'hate': {'filtered': False, 'severity': 'safe'}, 'protected_material_code': {'filtered': False, 'detected': False}, 'protected_material_text': {'filtered': False, 'detected': False}, 'self_harm': {'filtered': False, 'severity': 'safe'}, 'sexual': {'filtered': False, 'severity': 'safe'}, 'violence': {'filtered': False, 'severity': 'safe'}}}, id='run-79daf49e-a248-4ff0-9db7-ccc842e1ff97-0', usage_metadata={'input_tokens': 1436, 'output_tokens': 160, 'total_tokens': 1596, 'input_token_details': {'audio': 0, 'cache_read': 0}, 'output_token_details': {'audio': 0, 'reasoning': 0}})]}}\n"
     ]
    }
   ],
   "source": [
    "from langchain_mcp_adapters.tools import load_mcp_tools\n",
    "from langchain_mcp_adapters.prompts import load_mcp_prompt\n",
    "from langchain_core.messages import HumanMessage\n",
    "from langgraph.prebuilt import create_react_agent\n",
    "from langchain_mcp_adapters.client import MultiServerMCPClient\n",
    "\n",
    "async with MultiServerMCPClient(\n",
    "    {\n",
    "        \"house_tax\": {\n",
    "            \"command\": \"python\",\n",
    "            \"args\": [\"./mcp_stdio_server.py\"],\n",
    "            \"transport\": \"stdio\",\n",
    "        },\n",
    "    }\n",
    ") as client:\n",
    "\n",
    "    ##### AGENT #####\n",
    "    tool_list = client.get_tools()\n",
    "    agent = create_react_agent(llm, tool_list)\n",
    "    query = '5억짜리 집 1채, 10억짜리 집 1채, 20억짜리 집 1채를 가지고 있을 때 세금을 얼마나 내나요?'\n",
    "    print(\"=====PROMPT=====\")\n",
    "    system_prompt = await client.get_prompt(server_name=\"house_tax\", prompt_name=\"house_tax_system_prompt\", arguments={})\n",
    "    print(\"system_prompt : \", system_prompt)\n",
    "    messages = system_prompt + [HumanMessage(content=query)]\n",
    "    print(\"=====RESPONSE=====\")\n",
    "    stream_generator = agent.astream({'messages': [HumanMessage(content=query)]})\n",
    "\n",
    "\n",
    "    all_chunks = await process_stream(stream_generator)\n",
    "\n",
    "\n",
    "    if all_chunks:\n",
    "        final_result = all_chunks[-1]\n",
    "        print(\"\\nFinal result:\", final_result)"
   ]
  },
  {
   "cell_type": "code",
   "execution_count": null,
   "metadata": {},
   "outputs": [],
   "source": []
  }
 ],
 "metadata": {
  "kernelspec": {
   "display_name": ".venv",
   "language": "python",
   "name": "python3"
  },
  "language_info": {
   "codemirror_mode": {
    "name": "ipython",
    "version": 3
   },
   "file_extension": ".py",
   "mimetype": "text/x-python",
   "name": "python",
   "nbconvert_exporter": "python",
   "pygments_lexer": "ipython3",
   "version": "3.13.2"
  }
 },
 "nbformat": 4,
 "nbformat_minor": 2
}
