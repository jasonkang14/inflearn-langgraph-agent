{
 "cells": [
  {
   "cell_type": "markdown",
   "metadata": {},
   "source": [
    "# 4.2 MCP 서버의 도구를 활용하는 방법"
   ]
  },
  {
   "cell_type": "markdown",
   "metadata": {},
   "source": [
    "- 3.8 커스텀 도구(tool)를 최대한 활용하는 방법에서 생성한 에이전트가 활용하는 도구를 [MCP 서버](https://github.com/modelcontextprotocol/servers)로 이전\n",
    "\n"
   ]
  },
  {
   "cell_type": "code",
   "execution_count": 1,
   "metadata": {},
   "outputs": [
    {
     "data": {
      "text/plain": [
       "True"
      ]
     },
     "execution_count": 1,
     "metadata": {},
     "output_type": "execute_result"
    }
   ],
   "source": [
    "from dotenv import load_dotenv\n",
    "\n",
    "load_dotenv()"
   ]
  },
  {
   "cell_type": "markdown",
   "metadata": {},
   "source": [
    "- 도구(tool)을 활용하려면 [`AIMessage`](https://python.langchain.com/api_reference/core/messages/langchain_core.messages.ai.AIMessage.html)를 활용해야하기 때문에 상태에 `messages`가 필요함\n",
    "- 직접 선언하지 않고 랭그래프에서 제공하는 `MessagesState`를 사용"
   ]
  },
  {
   "cell_type": "code",
   "execution_count": 2,
   "metadata": {},
   "outputs": [],
   "source": [
    "\n",
    "from langgraph.graph import StateGraph, MessagesState\n",
    "\n",
    "class AgentState(MessagesState):\n",
    "    pass\n",
    "\n",
    "graph_builder = StateGraph(AgentState)"
   ]
  },
  {
   "cell_type": "code",
   "execution_count": 3,
   "metadata": {},
   "outputs": [],
   "source": [
    "query = '5억짜리 집 1채, 10억짜리 집 1채, 20억짜리 집 1채를 가지고 있을 때 세금을 얼마나 내나요?'"
   ]
  },
  {
   "cell_type": "code",
   "execution_count": 4,
   "metadata": {},
   "outputs": [],
   "source": [
    "from langchain_openai import AzureChatOpenAI\n",
    "\n",
    "llm = AzureChatOpenAI(\n",
    "    azure_deployment='gpt-4o-2024-11-20',\n",
    "    api_version='2024-08-01-preview',   \n",
    "    temperature=0\n",
    ")"
   ]
  },
  {
   "cell_type": "code",
   "execution_count": 5,
   "metadata": {},
   "outputs": [],
   "source": [
    "async def process_stream(stream_generator):\n",
    "    results = []\n",
    "    try:\n",
    "        async for chunk in stream_generator:\n",
    "\n",
    "            key = list(chunk.keys())[0]\n",
    "            \n",
    "            if key == 'agent':\n",
    "                # Agent 메시지의 내용을 가져옴. 메세지가 비어있는 경우 어떤 도구를 어떻게 호출할지 정보를 가져옴\n",
    "                content = chunk['agent']['messages'][0].content if chunk['agent']['messages'][0].content != '' else chunk['agent']['messages'][0].additional_kwargs\n",
    "                print(f\"'agent': '{content}'\")\n",
    "            \n",
    "            elif key == 'tools':\n",
    "                # 도구 메시지의 내용을 가져옴\n",
    "                for tool_msg in chunk['tools']['messages']:\n",
    "                    print(f\"'tools': '{tool_msg.content}'\")\n",
    "            \n",
    "            results.append(chunk)\n",
    "        return results\n",
    "    except Exception as e:\n",
    "        print(f\"Error processing stream: {e}\")\n",
    "        return results"
   ]
  },
  {
   "cell_type": "markdown",
   "metadata": {},
   "source": [
    "- MCP 서버와 연결하기 위한 MCP 클라이언트 생성\n",
    "    - LangChain에서 제공하는 [langchain-mcp-adapters](https://github.com/langchain-ai/langchain-mcp-adapters)활용\n",
    "    - `MultiServerMCPClient`를 활용하면 복수의 MCP 서버와 연결할 수 있음"
   ]
  },
  {
   "cell_type": "code",
   "execution_count": null,
   "metadata": {},
   "outputs": [
    {
     "name": "stdout",
     "output_type": "stream",
     "text": [
      "=====PROMPT=====\n",
      "=====RESPONSE=====\n",
      "'agent': '{'tool_calls': [{'id': 'call_cDiRDAaKaml4M6hB7HCSS4sI', 'function': {'arguments': '{}', 'name': 'tax_base_tool'}, 'type': 'function'}, {'id': 'call_ZKOqqhaALkRVWzI2oZfK0kA3', 'function': {'arguments': '{\"question\": \"5억짜리 집 1채, 10억짜리 집 1채, 20억짜리 집 1채를 가지고 있습니다. 공정시장가액비율은 얼마인가요?\"}', 'name': 'market_value_rate_tool'}, 'type': 'function'}, {'id': 'call_sHRjrKZ5HSnSnuzjUmUSGUpz', 'function': {'arguments': '{\"question\": \"5억짜리 집 1채, 10억짜리 집 1채, 20억짜리 집 1채를 가지고 있습니다. 공제액은 얼마인가요?\"}', 'name': 'tax_deductible_tool'}, 'type': 'function'}], 'refusal': None}'\n",
      "'tools': '과세표준 = (주택의 공시가격 합산 - 공제금액) × 공정시장가액비율'\n",
      "'tools': '공정시장가액비율은 60%입니다.'\n",
      "'tools': '9억 원'\n",
      "'agent': '{'tool_calls': [{'id': 'call_lFN1VmMOwE12DB6rGbiym3vt', 'function': {'arguments': '{\"tax_base_question\":\"과세표준 = (주택의 공시가격 합산 - 공제금액) × 공정시장가액비율\",\"market_value_rate\":\"60%\",\"tax_deductible\":\"9억원\",\"question\":\"5억짜리 집 1채, 10억짜리 집 1채, 20억짜리 집 1채를 가지고 있을 때 세금을 얼마나 내나요?\"}', 'name': 'house_tax_tool'}, 'type': 'function'}], 'refusal': None}'\n"
     ]
    }
   ],
   "source": [
    "from langchain_mcp_adapters.tools import load_mcp_tools\n",
    "from langchain_mcp_adapters.prompts import load_mcp_prompt\n",
    "from langchain_core.messages import HumanMessage\n",
    "from langgraph.prebuilt import create_react_agent\n",
    "from langchain_mcp_adapters.client import MultiServerMCPClient\n",
    "\n",
    "async with MultiServerMCPClient(\n",
    "    {\n",
    "        \"house_tax\": {\n",
    "            \"command\": \"python\",\n",
    "            \"args\": [\"./mcp_stdio_server.py\"],\n",
    "            \"transport\": \"stdio\",\n",
    "        },\n",
    "    }\n",
    ") as client:\n",
    "\n",
    "    ##### AGENT #####\n",
    "    tool_list = client.get_tools()\n",
    "    agent = create_react_agent(llm, tool_list)\n",
    "    query = '5억짜리 집 1채, 10억짜리 집 1채, 20억짜리 집 1채를 가지고 있을 때 세금을 얼마나 내나요?'\n",
    "    system_prompt = client.get_prompt(server_name=\"house_tax\", prompt_name=\"house_tax_system_prompt\", arguments={})\n",
    "    messages = await system_prompt + [HumanMessage(content=query)]\n",
    "    print(\"=====RESPONSE=====\")\n",
    "    stream_generator = agent.astream({'messages': [HumanMessage(content=query)]})\n",
    "\n",
    "\n",
    "    all_chunks = await process_stream(stream_generator)\n",
    "\n",
    "\n",
    "    if all_chunks:\n",
    "        final_result = all_chunks[-1]\n",
    "        print(\"\\nFinal result:\", final_result)"
   ]
  },
  {
   "cell_type": "code",
   "execution_count": null,
   "metadata": {},
   "outputs": [],
   "source": []
  }
 ],
 "metadata": {
  "kernelspec": {
   "display_name": ".venv",
   "language": "python",
   "name": "python3"
  },
  "language_info": {
   "codemirror_mode": {
    "name": "ipython",
    "version": 3
   },
   "file_extension": ".py",
   "mimetype": "text/x-python",
   "name": "python",
   "nbconvert_exporter": "python",
   "pygments_lexer": "ipython3",
   "version": "3.13.2"
  }
 },
 "nbformat": 4,
 "nbformat_minor": 2
}
