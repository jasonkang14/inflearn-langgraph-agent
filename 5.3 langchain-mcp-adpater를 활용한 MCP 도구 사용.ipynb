{
 "cells": [
  {
   "cell_type": "markdown",
   "id": "36e9f966",
   "metadata": {},
   "source": [
    "# 5.3 langchain-mcp-adpater를 활용한 MCP 도구 사용\n",
    "\n",
    "- [MCP Transport](https://modelcontextprotocol.io/specification/2025-06-18/basic/transports)에서 SSE가 deprecate되고 Stremable HTTP가 표준으로 자리잡음\n",
    "- [GitHub](https://github.com/github/github-mcp-server)에서 제공하는 MCP 서버를 Streamable HTTP와 STDIO 방식으로 활용하는 방법"
   ]
  },
  {
   "cell_type": "markdown",
   "id": "ca4daa11",
   "metadata": {},
   "source": [
    "- 환경변수 로딩"
   ]
  },
  {
   "cell_type": "code",
   "execution_count": 2,
   "id": "eb414312",
   "metadata": {},
   "outputs": [
    {
     "data": {
      "text/plain": [
       "True"
      ]
     },
     "execution_count": 2,
     "metadata": {},
     "output_type": "execute_result"
    }
   ],
   "source": [
    "from dotenv import load_dotenv\n",
    "\n",
    "load_dotenv()"
   ]
  },
  {
   "cell_type": "markdown",
   "id": "91e56f86",
   "metadata": {
    "vscode": {
     "languageId": "raw"
    }
   },
   "source": [
    "## GitHub MCP Client 설정\n",
    "\n",
    "GitHub MCP 서버에 연결하기 위한 클라이언트 설정\n",
    "\n",
    "1. **Streamable HTTP**: SSE를 대체하는 새로운 표준 transport 방식\n",
    "2. **STDIO**: Docker를 통해 실행되는 전통적인 방식\n"
   ]
  },
  {
   "cell_type": "markdown",
   "id": "add34427",
   "metadata": {
    "vscode": {
     "languageId": "raw"
    }
   },
   "source": [
    "### 설정 상세 설명\n",
    "\n",
    "**환경 변수 요구사항:**\n",
    "- `GITHUB_PAT`: GitHub Personal Access Token이 필요 (`.env` 파일에 설정)\n",
    "\n",
    "**Docker 설정 포인트:**\n",
    "- `context,pull_requests` toolsets을 활성화하여 GitHub 컨텍스트 정보와 PR 관련 작업 수행\n",
    "- 컨테이너는 실행 후 자동으로 제거 (`--rm` 플래그)\n"
   ]
  },
  {
   "cell_type": "code",
   "execution_count": null,
   "id": "e03622d4",
   "metadata": {},
   "outputs": [],
   "source": [
    "import os  # 환경 변수 접근을 위한 os 모듈 임포트\n",
    "from langchain_mcp_adapters.client import MultiServerMCPClient  # MCP 클라이언트 어댑터 임포트\n",
    "\n",
    "# 환경 변수에서 GitHub Personal Access Token 가져오기\n",
    "github_pat = os.getenv(\"GITHUB_PAT\")\n",
    "\n",
    "# GitHub 서버 구성으로 MCP 클라이언트 생성\n",
    "mcp_client = MultiServerMCPClient({\n",
    "    # Streamable HTTP transport 옵션\n",
    "    # SSE를 대체하는 새로운 transport 방식\n",
    "    # \"github\": {\n",
    "    #   \"url\": \"https://api.githubcopilot.com/mcp/\",  # GitHub Copilot MCP API 엔드포인트\n",
    "    #   \"headers\": {\n",
    "    #     \"Authorization\": f\"Bearer {github_pat}\"  # Bearer 토큰 인증\n",
    "    #   },\n",
    "    #   \"transport\": \"streamable_http\"  # 새로운 표준 transport 방식\n",
    "    # }\n",
    "   \n",
    "   # Docker를 사용한 STDIO transport \n",
    "   \"github\": {\n",
    "      \"command\": \"docker\",  # MCP 서버 실행을 위한 Docker 사용\n",
    "      \"args\": [  # Docker 명령어 인자들\n",
    "        \"run\",  # 새 컨테이너 실행\n",
    "        \"-i\",   # STDIN 열어두기 (인터랙티브 모드)\n",
    "        \"--rm\", # 컨테이너 종료 후 자동 제거\n",
    "        \"-e\",   # 환경 변수 설정 플래그\n",
    "        \"GITHUB_TOOLSETS\",  # 환경 변수 이름\n",
    "        \"-e\",   # 다른 환경 변수 설정 플래그\n",
    "        \"GITHUB_PERSONAL_ACCESS_TOKEN\",  # 환경 변수 이름\n",
    "        \"ghcr.io/github/github-mcp-server\"  # GitHub Container Registry의 Docker 이미지\n",
    "      ],\n",
    "      \"env\": {  # 컨테이너에 전달할 환경 변수들\n",
    "        \"GITHUB_TOOLSETS\": \"context,pull_requests\",  # context와 PR toolsets 활성화\n",
    "        \"GITHUB_PERSONAL_ACCESS_TOKEN\": github_pat  # GitHub PAT를 컨테이너에 전달\n",
    "      },\n",
    "      \"transport\": \"stdio\"  # 통신을 위한 STDIO transport 사용\n",
    "    }\n",
    "})"
   ]
  },
  {
   "cell_type": "code",
   "execution_count": 17,
   "id": "9decb1cc",
   "metadata": {},
   "outputs": [],
   "source": [
    "tool_list = await mcp_client.get_tools()"
   ]
  },
  {
   "cell_type": "code",
   "execution_count": 19,
   "id": "c6b0ad98",
   "metadata": {},
   "outputs": [],
   "source": [
    "from langchain_openai import AzureChatOpenAI\n",
    "\n",
    "llm = AzureChatOpenAI(\n",
    "    azure_deployment='gpt-4o-2024-11-20',\n",
    "    api_version='2024-08-01-preview',   \n",
    "    temperature=0\n",
    ")"
   ]
  },
  {
   "cell_type": "code",
   "execution_count": 20,
   "id": "f13e01f7",
   "metadata": {},
   "outputs": [],
   "source": [
    "from langgraph.prebuilt import create_react_agent\n",
    "\n",
    "agent = create_react_agent(\n",
    "    model=llm,\n",
    "    tools=tool_list,\n",
    "    state_modifier=(\"Use the tools provided to you to answer the user's question\")\n",
    ")"
   ]
  },
  {
   "cell_type": "code",
   "execution_count": null,
   "id": "696f2d46",
   "metadata": {},
   "outputs": [],
   "source": [
    "async def process_stream(stream_generator):\n",
    "    results = []\n",
    "    try:\n",
    "        async for chunk in stream_generator:\n",
    "\n",
    "            key = list(chunk.keys())[0]\n",
    "            \n",
    "            if key == 'agent':\n",
    "                # Agent 메시지의 내용을 가져옴. 메세지가 비어있는 경우 어떤 도구를 어떻게 호출할지 정보를 가져옴\n",
    "                content = chunk['agent']['messages'][0].content if chunk['agent']['messages'][0].content != '' else chunk['agent']['messages'][0].additional_kwargs\n",
    "                print(f\"'agent': '{content}'\")\n",
    "            \n",
    "            elif key == 'tools':\n",
    "                # 도구 메시지의 내용을 가져옴\n",
    "                for tool_msg in chunk['tools']['messages']:\n",
    "                    print(f\"'tools': '{tool_msg.content}'\")\n",
    "            \n",
    "            results.append(chunk)\n",
    "        return results\n",
    "    except Exception as e:\n",
    "        print(f\"Error processing stream: {e}\")\n",
    "        return results"
   ]
  },
  {
   "cell_type": "code",
   "execution_count": 23,
   "id": "e32388af",
   "metadata": {},
   "outputs": [
    {
     "name": "stdout",
     "output_type": "stream",
     "text": [
      "'agent': '{'tool_calls': [{'id': 'call_UDZyQwas02TuFPlsgrDQVlEI', 'function': {'arguments': '{\"owner\":\"jasonkang14\",\"repo\":\"sat-reading-client\",\"pullNumber\":4}', 'name': 'get_pull_request'}, 'type': 'function'}], 'refusal': None}'\n",
      "'tools': '{\"id\":2660757826,\"number\":4,\"state\":\"open\",\"locked\":false,\"title\":\"extend splash display to 5 seconds\",\"created_at\":\"2025-07-12T02:38:36Z\",\"updated_at\":\"2025-07-12T02:39:08Z\",\"user\":{\"login\":\"jasonkang14\",\"id\":45306565,\"node_id\":\"MDQ6VXNlcjQ1MzA2NTY1\",\"avatar_url\":\"https://avatars.githubusercontent.com/u/45306565?v=4\",\"html_url\":\"https://github.com/jasonkang14\",\"gravatar_id\":\"\",\"type\":\"User\",\"site_admin\":false,\"url\":\"https://api.github.com/users/jasonkang14\",\"events_url\":\"https://api.github.com/users/jasonkang14/events{/privacy}\",\"following_url\":\"https://api.github.com/users/jasonkang14/following{/other_user}\",\"followers_url\":\"https://api.github.com/users/jasonkang14/followers\",\"gists_url\":\"https://api.github.com/users/jasonkang14/gists{/gist_id}\",\"organizations_url\":\"https://api.github.com/users/jasonkang14/orgs\",\"received_events_url\":\"https://api.github.com/users/jasonkang14/received_events\",\"repos_url\":\"https://api.github.com/users/jasonkang14/repos\",\"starred_url\":\"https://api.github.com/users/jasonkang14/starred{/owner}{/repo}\",\"subscriptions_url\":\"https://api.github.com/users/jasonkang14/subscriptions\"},\"draft\":false,\"url\":\"https://api.github.com/repos/jasonkang14/sat-reading-client/pulls/4\",\"html_url\":\"https://github.com/jasonkang14/sat-reading-client/pull/4\",\"issue_url\":\"https://api.github.com/repos/jasonkang14/sat-reading-client/issues/4\",\"statuses_url\":\"https://api.github.com/repos/jasonkang14/sat-reading-client/statuses/1adbf528b2518982a58f5ccb4bce432d001fbe07\",\"diff_url\":\"https://github.com/jasonkang14/sat-reading-client/pull/4.diff\",\"patch_url\":\"https://github.com/jasonkang14/sat-reading-client/pull/4.patch\",\"commits_url\":\"https://api.github.com/repos/jasonkang14/sat-reading-client/pulls/4/commits\",\"comments_url\":\"https://api.github.com/repos/jasonkang14/sat-reading-client/issues/4/comments\",\"review_comments_url\":\"https://api.github.com/repos/jasonkang14/sat-reading-client/pulls/4/comments\",\"review_comment_url\":\"https://api.github.com/repos/jasonkang14/sat-reading-client/pulls/comments{/number}\",\"author_association\":\"OWNER\",\"node_id\":\"PR_kwDONwC6Is6el_FC\",\"merged\":false,\"mergeable\":true,\"mergeable_state\":\"clean\",\"rebaseable\":true,\"merge_commit_sha\":\"b53d2b89f986325ec191d0d023761c6568ba8c7e\",\"comments\":0,\"commits\":1,\"additions\":3,\"deletions\":0,\"changed_files\":1,\"maintainer_can_modify\":false,\"review_comments\":1,\"_links\":{\"self\":{\"href\":\"https://api.github.com/repos/jasonkang14/sat-reading-client/pulls/4\"},\"html\":{\"href\":\"https://github.com/jasonkang14/sat-reading-client/pull/4\"},\"issue\":{\"href\":\"https://api.github.com/repos/jasonkang14/sat-reading-client/issues/4\"},\"comments\":{\"href\":\"https://api.github.com/repos/jasonkang14/sat-reading-client/issues/4/comments\"},\"review_comments\":{\"href\":\"https://api.github.com/repos/jasonkang14/sat-reading-client/pulls/4/comments\"},\"review_comment\":{\"href\":\"https://api.github.com/repos/jasonkang14/sat-reading-client/pulls/comments{/number}\"},\"commits\":{\"href\":\"https://api.github.com/repos/jasonkang14/sat-reading-client/pulls/4/commits\"},\"statuses\":{\"href\":\"https://api.github.com/repos/jasonkang14/sat-reading-client/statuses/1adbf528b2518982a58f5ccb4bce432d001fbe07\"}},\"head\":{\"label\":\"jasonkang14:feature/splash\",\"ref\":\"feature/splash\",\"sha\":\"1adbf528b2518982a58f5ccb4bce432d001fbe07\",\"repo\":{\"id\":922794530,\"node_id\":\"R_kgDONwC6Ig\",\"owner\":{\"login\":\"jasonkang14\",\"id\":45306565,\"node_id\":\"MDQ6VXNlcjQ1MzA2NTY1\",\"avatar_url\":\"https://avatars.githubusercontent.com/u/45306565?v=4\",\"html_url\":\"https://github.com/jasonkang14\",\"gravatar_id\":\"\",\"type\":\"User\",\"site_admin\":false,\"url\":\"https://api.github.com/users/jasonkang14\",\"events_url\":\"https://api.github.com/users/jasonkang14/events{/privacy}\",\"following_url\":\"https://api.github.com/users/jasonkang14/following{/other_user}\",\"followers_url\":\"https://api.github.com/users/jasonkang14/followers\",\"gists_url\":\"https://api.github.com/users/jasonkang14/gists{/gist_id}\",\"organizations_url\":\"https://api.github.com/users/jasonkang14/orgs\",\"received_events_url\":\"https://api.github.com/users/jasonkang14/received_events\",\"repos_url\":\"https://api.github.com/users/jasonkang14/repos\",\"starred_url\":\"https://api.github.com/users/jasonkang14/starred{/owner}{/repo}\",\"subscriptions_url\":\"https://api.github.com/users/jasonkang14/subscriptions\"},\"name\":\"sat-reading-client\",\"full_name\":\"jasonkang14/sat-reading-client\",\"default_branch\":\"main\",\"created_at\":\"2025-01-27T04:39:08Z\",\"pushed_at\":\"2025-07-12T02:38:23Z\",\"updated_at\":\"2025-06-29T01:18:34Z\",\"html_url\":\"https://github.com/jasonkang14/sat-reading-client\",\"clone_url\":\"https://github.com/jasonkang14/sat-reading-client.git\",\"git_url\":\"git://github.com/jasonkang14/sat-reading-client.git\",\"ssh_url\":\"git@github.com:jasonkang14/sat-reading-client.git\",\"svn_url\":\"https://github.com/jasonkang14/sat-reading-client\",\"language\":\"C\",\"fork\":false,\"forks_count\":0,\"open_issues_count\":3,\"open_issues\":3,\"stargazers_count\":0,\"watchers_count\":0,\"watchers\":0,\"size\":1147,\"allow_forking\":true,\"web_commit_signoff_required\":false,\"archived\":false,\"disabled\":false,\"private\":true,\"has_issues\":true,\"has_wiki\":false,\"has_pages\":false,\"has_projects\":true,\"has_downloads\":true,\"has_discussions\":false,\"is_template\":false,\"url\":\"https://api.github.com/repos/jasonkang14/sat-reading-client\",\"archive_url\":\"https://api.github.com/repos/jasonkang14/sat-reading-client/{archive_format}{/ref}\",\"assignees_url\":\"https://api.github.com/repos/jasonkang14/sat-reading-client/assignees{/user}\",\"blobs_url\":\"https://api.github.com/repos/jasonkang14/sat-reading-client/git/blobs{/sha}\",\"branches_url\":\"https://api.github.com/repos/jasonkang14/sat-reading-client/branches{/branch}\",\"collaborators_url\":\"https://api.github.com/repos/jasonkang14/sat-reading-client/collaborators{/collaborator}\",\"comments_url\":\"https://api.github.com/repos/jasonkang14/sat-reading-client/comments{/number}\",\"commits_url\":\"https://api.github.com/repos/jasonkang14/sat-reading-client/commits{/sha}\",\"compare_url\":\"https://api.github.com/repos/jasonkang14/sat-reading-client/compare/{base}...{head}\",\"contents_url\":\"https://api.github.com/repos/jasonkang14/sat-reading-client/contents/{+path}\",\"contributors_url\":\"https://api.github.com/repos/jasonkang14/sat-reading-client/contributors\",\"deployments_url\":\"https://api.github.com/repos/jasonkang14/sat-reading-client/deployments\",\"downloads_url\":\"https://api.github.com/repos/jasonkang14/sat-reading-client/downloads\",\"events_url\":\"https://api.github.com/repos/jasonkang14/sat-reading-client/events\",\"forks_url\":\"https://api.github.com/repos/jasonkang14/sat-reading-client/forks\",\"git_commits_url\":\"https://api.github.com/repos/jasonkang14/sat-reading-client/git/commits{/sha}\",\"git_refs_url\":\"https://api.github.com/repos/jasonkang14/sat-reading-client/git/refs{/sha}\",\"git_tags_url\":\"https://api.github.com/repos/jasonkang14/sat-reading-client/git/tags{/sha}\",\"hooks_url\":\"https://api.github.com/repos/jasonkang14/sat-reading-client/hooks\",\"issue_comment_url\":\"https://api.github.com/repos/jasonkang14/sat-reading-client/issues/comments{/number}\",\"issue_events_url\":\"https://api.github.com/repos/jasonkang14/sat-reading-client/issues/events{/number}\",\"issues_url\":\"https://api.github.com/repos/jasonkang14/sat-reading-client/issues{/number}\",\"keys_url\":\"https://api.github.com/repos/jasonkang14/sat-reading-client/keys{/key_id}\",\"labels_url\":\"https://api.github.com/repos/jasonkang14/sat-reading-client/labels{/name}\",\"languages_url\":\"https://api.github.com/repos/jasonkang14/sat-reading-client/languages\",\"merges_url\":\"https://api.github.com/repos/jasonkang14/sat-reading-client/merges\",\"milestones_url\":\"https://api.github.com/repos/jasonkang14/sat-reading-client/milestones{/number}\",\"notifications_url\":\"https://api.github.com/repos/jasonkang14/sat-reading-client/notifications{?since,all,participating}\",\"pulls_url\":\"https://api.github.com/repos/jasonkang14/sat-reading-client/pulls{/number}\",\"releases_url\":\"https://api.github.com/repos/jasonkang14/sat-reading-client/releases{/id}\",\"stargazers_url\":\"https://api.github.com/repos/jasonkang14/sat-reading-client/stargazers\",\"statuses_url\":\"https://api.github.com/repos/jasonkang14/sat-reading-client/statuses/{sha}\",\"subscribers_url\":\"https://api.github.com/repos/jasonkang14/sat-reading-client/subscribers\",\"subscription_url\":\"https://api.github.com/repos/jasonkang14/sat-reading-client/subscription\",\"tags_url\":\"https://api.github.com/repos/jasonkang14/sat-reading-client/tags\",\"trees_url\":\"https://api.github.com/repos/jasonkang14/sat-reading-client/git/trees{/sha}\",\"teams_url\":\"https://api.github.com/repos/jasonkang14/sat-reading-client/teams\",\"visibility\":\"private\"},\"user\":{\"login\":\"jasonkang14\",\"id\":45306565,\"node_id\":\"MDQ6VXNlcjQ1MzA2NTY1\",\"avatar_url\":\"https://avatars.githubusercontent.com/u/45306565?v=4\",\"html_url\":\"https://github.com/jasonkang14\",\"gravatar_id\":\"\",\"type\":\"User\",\"site_admin\":false,\"url\":\"https://api.github.com/users/jasonkang14\",\"events_url\":\"https://api.github.com/users/jasonkang14/events{/privacy}\",\"following_url\":\"https://api.github.com/users/jasonkang14/following{/other_user}\",\"followers_url\":\"https://api.github.com/users/jasonkang14/followers\",\"gists_url\":\"https://api.github.com/users/jasonkang14/gists{/gist_id}\",\"organizations_url\":\"https://api.github.com/users/jasonkang14/orgs\",\"received_events_url\":\"https://api.github.com/users/jasonkang14/received_events\",\"repos_url\":\"https://api.github.com/users/jasonkang14/repos\",\"starred_url\":\"https://api.github.com/users/jasonkang14/starred{/owner}{/repo}\",\"subscriptions_url\":\"https://api.github.com/users/jasonkang14/subscriptions\"}},\"base\":{\"label\":\"jasonkang14:main\",\"ref\":\"main\",\"sha\":\"a9565cebe08826456a8690ebc0d2a2641f9404f8\",\"repo\":{\"id\":922794530,\"node_id\":\"R_kgDONwC6Ig\",\"owner\":{\"login\":\"jasonkang14\",\"id\":45306565,\"node_id\":\"MDQ6VXNlcjQ1MzA2NTY1\",\"avatar_url\":\"https://avatars.githubusercontent.com/u/45306565?v=4\",\"html_url\":\"https://github.com/jasonkang14\",\"gravatar_id\":\"\",\"type\":\"User\",\"site_admin\":false,\"url\":\"https://api.github.com/users/jasonkang14\",\"events_url\":\"https://api.github.com/users/jasonkang14/events{/privacy}\",\"following_url\":\"https://api.github.com/users/jasonkang14/following{/other_user}\",\"followers_url\":\"https://api.github.com/users/jasonkang14/followers\",\"gists_url\":\"https://api.github.com/users/jasonkang14/gists{/gist_id}\",\"organizations_url\":\"https://api.github.com/users/jasonkang14/orgs\",\"received_events_url\":\"https://api.github.com/users/jasonkang14/received_events\",\"repos_url\":\"https://api.github.com/users/jasonkang14/repos\",\"starred_url\":\"https://api.github.com/users/jasonkang14/starred{/owner}{/repo}\",\"subscriptions_url\":\"https://api.github.com/users/jasonkang14/subscriptions\"},\"name\":\"sat-reading-client\",\"full_name\":\"jasonkang14/sat-reading-client\",\"default_branch\":\"main\",\"created_at\":\"2025-01-27T04:39:08Z\",\"pushed_at\":\"2025-07-12T02:38:23Z\",\"updated_at\":\"2025-06-29T01:18:34Z\",\"html_url\":\"https://github.com/jasonkang14/sat-reading-client\",\"clone_url\":\"https://github.com/jasonkang14/sat-reading-client.git\",\"git_url\":\"git://github.com/jasonkang14/sat-reading-client.git\",\"ssh_url\":\"git@github.com:jasonkang14/sat-reading-client.git\",\"svn_url\":\"https://github.com/jasonkang14/sat-reading-client\",\"language\":\"C\",\"fork\":false,\"forks_count\":0,\"open_issues_count\":3,\"open_issues\":3,\"stargazers_count\":0,\"watchers_count\":0,\"watchers\":0,\"size\":1147,\"allow_forking\":true,\"web_commit_signoff_required\":false,\"archived\":false,\"disabled\":false,\"private\":true,\"has_issues\":true,\"has_wiki\":false,\"has_pages\":false,\"has_projects\":true,\"has_downloads\":true,\"has_discussions\":false,\"is_template\":false,\"url\":\"https://api.github.com/repos/jasonkang14/sat-reading-client\",\"archive_url\":\"https://api.github.com/repos/jasonkang14/sat-reading-client/{archive_format}{/ref}\",\"assignees_url\":\"https://api.github.com/repos/jasonkang14/sat-reading-client/assignees{/user}\",\"blobs_url\":\"https://api.github.com/repos/jasonkang14/sat-reading-client/git/blobs{/sha}\",\"branches_url\":\"https://api.github.com/repos/jasonkang14/sat-reading-client/branches{/branch}\",\"collaborators_url\":\"https://api.github.com/repos/jasonkang14/sat-reading-client/collaborators{/collaborator}\",\"comments_url\":\"https://api.github.com/repos/jasonkang14/sat-reading-client/comments{/number}\",\"commits_url\":\"https://api.github.com/repos/jasonkang14/sat-reading-client/commits{/sha}\",\"compare_url\":\"https://api.github.com/repos/jasonkang14/sat-reading-client/compare/{base}...{head}\",\"contents_url\":\"https://api.github.com/repos/jasonkang14/sat-reading-client/contents/{+path}\",\"contributors_url\":\"https://api.github.com/repos/jasonkang14/sat-reading-client/contributors\",\"deployments_url\":\"https://api.github.com/repos/jasonkang14/sat-reading-client/deployments\",\"downloads_url\":\"https://api.github.com/repos/jasonkang14/sat-reading-client/downloads\",\"events_url\":\"https://api.github.com/repos/jasonkang14/sat-reading-client/events\",\"forks_url\":\"https://api.github.com/repos/jasonkang14/sat-reading-client/forks\",\"git_commits_url\":\"https://api.github.com/repos/jasonkang14/sat-reading-client/git/commits{/sha}\",\"git_refs_url\":\"https://api.github.com/repos/jasonkang14/sat-reading-client/git/refs{/sha}\",\"git_tags_url\":\"https://api.github.com/repos/jasonkang14/sat-reading-client/git/tags{/sha}\",\"hooks_url\":\"https://api.github.com/repos/jasonkang14/sat-reading-client/hooks\",\"issue_comment_url\":\"https://api.github.com/repos/jasonkang14/sat-reading-client/issues/comments{/number}\",\"issue_events_url\":\"https://api.github.com/repos/jasonkang14/sat-reading-client/issues/events{/number}\",\"issues_url\":\"https://api.github.com/repos/jasonkang14/sat-reading-client/issues{/number}\",\"keys_url\":\"https://api.github.com/repos/jasonkang14/sat-reading-client/keys{/key_id}\",\"labels_url\":\"https://api.github.com/repos/jasonkang14/sat-reading-client/labels{/name}\",\"languages_url\":\"https://api.github.com/repos/jasonkang14/sat-reading-client/languages\",\"merges_url\":\"https://api.github.com/repos/jasonkang14/sat-reading-client/merges\",\"milestones_url\":\"https://api.github.com/repos/jasonkang14/sat-reading-client/milestones{/number}\",\"notifications_url\":\"https://api.github.com/repos/jasonkang14/sat-reading-client/notifications{?since,all,participating}\",\"pulls_url\":\"https://api.github.com/repos/jasonkang14/sat-reading-client/pulls{/number}\",\"releases_url\":\"https://api.github.com/repos/jasonkang14/sat-reading-client/releases{/id}\",\"stargazers_url\":\"https://api.github.com/repos/jasonkang14/sat-reading-client/stargazers\",\"statuses_url\":\"https://api.github.com/repos/jasonkang14/sat-reading-client/statuses/{sha}\",\"subscribers_url\":\"https://api.github.com/repos/jasonkang14/sat-reading-client/subscribers\",\"subscription_url\":\"https://api.github.com/repos/jasonkang14/sat-reading-client/subscription\",\"tags_url\":\"https://api.github.com/repos/jasonkang14/sat-reading-client/tags\",\"trees_url\":\"https://api.github.com/repos/jasonkang14/sat-reading-client/git/trees{/sha}\",\"teams_url\":\"https://api.github.com/repos/jasonkang14/sat-reading-client/teams\",\"visibility\":\"private\"},\"user\":{\"login\":\"jasonkang14\",\"id\":45306565,\"node_id\":\"MDQ6VXNlcjQ1MzA2NTY1\",\"avatar_url\":\"https://avatars.githubusercontent.com/u/45306565?v=4\",\"html_url\":\"https://github.com/jasonkang14\",\"gravatar_id\":\"\",\"type\":\"User\",\"site_admin\":false,\"url\":\"https://api.github.com/users/jasonkang14\",\"events_url\":\"https://api.github.com/users/jasonkang14/events{/privacy}\",\"following_url\":\"https://api.github.com/users/jasonkang14/following{/other_user}\",\"followers_url\":\"https://api.github.com/users/jasonkang14/followers\",\"gists_url\":\"https://api.github.com/users/jasonkang14/gists{/gist_id}\",\"organizations_url\":\"https://api.github.com/users/jasonkang14/orgs\",\"received_events_url\":\"https://api.github.com/users/jasonkang14/received_events\",\"repos_url\":\"https://api.github.com/users/jasonkang14/repos\",\"starred_url\":\"https://api.github.com/users/jasonkang14/starred{/owner}{/repo}\",\"subscriptions_url\":\"https://api.github.com/users/jasonkang14/subscriptions\"}}}'\n",
      "'agent': '{'tool_calls': [{'id': 'call_9JZcIqoT0gnCn7jfuKIXDyeC', 'function': {'arguments': '{\"owner\":\"jasonkang14\",\"repo\":\"sat-reading-client\",\"pullNumber\":4}', 'name': 'get_pull_request_files'}, 'type': 'function'}], 'refusal': None}'\n",
      "'tools': '[{\"sha\":\"1ff246c1c34612f97db013fb6169cb659f354e33\",\"filename\":\"lib/app/screens/login/login_screen.dart\",\"additions\":3,\"deletions\":0,\"changes\":3,\"status\":\"modified\",\"patch\":\"@@ -81,6 +81,9 @@ class _LoginScreenState extends ConsumerState\\u003cLoginScreen\\u003e {\\n   }\\n \\n   Future\\u003cvoid\\u003e checkAuth() async {\\n+    // Keep splash screen visible for 5 seconds\\n+    await Future.delayed(const Duration(seconds: 5));\\n+\\n     final prefs = await SharedPreferences.getInstance();\\n     final uid = prefs.getString('uid');\\n \",\"blob_url\":\"https://github.com/jasonkang14/sat-reading-client/blob/1adbf528b2518982a58f5ccb4bce432d001fbe07/lib%2Fapp%2Fscreens%2Flogin%2Flogin_screen.dart\",\"raw_url\":\"https://github.com/jasonkang14/sat-reading-client/raw/1adbf528b2518982a58f5ccb4bce432d001fbe07/lib%2Fapp%2Fscreens%2Flogin%2Flogin_screen.dart\",\"contents_url\":\"https://api.github.com/repos/jasonkang14/sat-reading-client/contents/lib%2Fapp%2Fscreens%2Flogin%2Flogin_screen.dart?ref=1adbf528b2518982a58f5ccb4bce432d001fbe07\"}]'\n",
      "'agent': '{'tool_calls': [{'id': 'call_T2jySXwTzbvxVyh411YY45YH', 'function': {'arguments': '{\"owner\":\"jasonkang14\",\"repo\":\"sat-reading-client\",\"pullNumber\":4}', 'name': 'create_pending_pull_request_review'}, 'type': 'function'}], 'refusal': None}'\n",
      "'tools': 'pending pull request created'\n",
      "'agent': '{'tool_calls': [{'id': 'call_GwzfWBlYkdInx7HLxlsrO18i', 'function': {'arguments': '{\"body\":\"The addition of a 5-second delay to the splash screen is clear and straightforward. However, consider if this delay is necessary for all users or if it could be made configurable. For example, you could use a constant or a configuration setting to allow flexibility.\",\"line\":83,\"path\":\"lib/app/screens/login/login_screen.dart\",\"owner\":\"jasonkang14\",\"repo\":\"sat-reading-client\",\"pullNumber\":4,\"side\":\"RIGHT\",\"subjectType\":\"LINE\"}', 'name': 'add_pull_request_review_comment_to_pending_review'}, 'type': 'function'}], 'refusal': None}'\n",
      "'tools': 'pull request review comment successfully added to pending review'\n",
      "'agent': '{'tool_calls': [{'id': 'call_WZHzofV84OeUcwoO5Ft98aUl', 'function': {'arguments': '{\"body\":\"Reviewed the changes and provided feedback on making the splash screen delay configurable.\",\"event\":\"COMMENT\",\"owner\":\"jasonkang14\",\"repo\":\"sat-reading-client\",\"pullNumber\":4}', 'name': 'submit_pending_pull_request_review'}, 'type': 'function'}], 'refusal': None}'\n",
      "'tools': 'pending pull request review successfully submitted'\n",
      "'agent': 'I have reviewed the pull request and added a comment suggesting that the 5-second splash screen delay could be made configurable for flexibility. The review has been submitted to the pull request. Let me know if there's anything else you'd like to address!'\n",
      "{'agent': {'messages': [AIMessage(content=\"I have reviewed the pull request and added a comment suggesting that the 5-second splash screen delay could be made configurable for flexibility. The review has been submitted to the pull request. Let me know if there's anything else you'd like to address!\", additional_kwargs={'refusal': None}, response_metadata={'token_usage': {'completion_tokens': 50, 'prompt_tokens': 6599, 'total_tokens': 6649, 'completion_tokens_details': {'accepted_prediction_tokens': 0, 'audio_tokens': 0, 'reasoning_tokens': 0, 'rejected_prediction_tokens': 0}, 'prompt_tokens_details': {'audio_tokens': 0, 'cached_tokens': 6528}}, 'model_name': 'gpt-4o-2024-11-20', 'system_fingerprint': 'fp_ee1d74bde0', 'prompt_filter_results': [{'prompt_index': 0, 'content_filter_results': {'hate': {'filtered': False, 'severity': 'safe'}, 'jailbreak': {'filtered': False, 'detected': False}, 'self_harm': {'filtered': False, 'severity': 'safe'}, 'sexual': {'filtered': False, 'severity': 'safe'}, 'violence': {'filtered': False, 'severity': 'safe'}}}], 'finish_reason': 'stop', 'logprobs': None, 'content_filter_results': {'hate': {'filtered': False, 'severity': 'safe'}, 'self_harm': {'filtered': False, 'severity': 'safe'}, 'sexual': {'filtered': False, 'severity': 'safe'}, 'violence': {'filtered': False, 'severity': 'safe'}}}, id='run-a5b5ffd2-4ae9-46d4-a0be-083706f0c635-0', usage_metadata={'input_tokens': 6599, 'output_tokens': 50, 'total_tokens': 6649, 'input_token_details': {'audio': 0, 'cache_read': 6528}, 'output_token_details': {'audio': 0, 'reasoning': 0}})]}}\n"
     ]
    }
   ],
   "source": [
    "from langchain_core.messages import HumanMessage\n",
    "\n",
    "query = \"\"\"깃헙의 Pull Request를 확인하고 코드 리뷰를 작성해주세요. \n",
    "코드리뷰를 PR에 comment로 남겨주세요 \n",
    "\n",
    "PR URL:https://github.com/jasonkang14/sat-reading-client/pull/4\n",
    "\n",
    "\"\"\"\n",
    "\n",
    "stream_generator = agent.astream({'messages': [HumanMessage(content=query)]})\n",
    "\n",
    "\n",
    "all_chunks = await process_stream(stream_generator)\n",
    "\n",
    "\n",
    "if all_chunks:\n",
    "    final_result = all_chunks[-1]\n",
    "    print(final_result)"
   ]
  },
  {
   "cell_type": "code",
   "execution_count": null,
   "id": "3d1a9e17",
   "metadata": {},
   "outputs": [],
   "source": []
  }
 ],
 "metadata": {
  "kernelspec": {
   "display_name": ".venv",
   "language": "python",
   "name": "python3"
  },
  "language_info": {
   "codemirror_mode": {
    "name": "ipython",
    "version": 3
   },
   "file_extension": ".py",
   "mimetype": "text/x-python",
   "name": "python",
   "nbconvert_exporter": "python",
   "pygments_lexer": "ipython3",
   "version": "3.13.2"
  }
 },
 "nbformat": 4,
 "nbformat_minor": 5
}
