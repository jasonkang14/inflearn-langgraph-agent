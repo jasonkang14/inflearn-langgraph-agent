{
 "cells": [
  {
   "cell_type": "markdown",
   "metadata": {},
   "source": [
    "# 5.5 공식문서에 없는 MCP Client 활용방법"
   ]
  },
  {
   "cell_type": "markdown",
   "metadata": {},
   "source": [
    "- 3.8 커스텀 도구(tool)를 최대한 활용하는 방법에서 생성한 에이전트가 활용하는 도구를 [MCP 서버](https://github.com/modelcontextprotocol/servers)로 이전\n",
    "\n"
   ]
  },
  {
   "cell_type": "code",
   "execution_count": 1,
   "metadata": {},
   "outputs": [
    {
     "data": {
      "text/plain": [
       "True"
      ]
     },
     "execution_count": 1,
     "metadata": {},
     "output_type": "execute_result"
    }
   ],
   "source": [
    "from dotenv import load_dotenv\n",
    "\n",
    "load_dotenv()"
   ]
  },
  {
   "cell_type": "markdown",
   "metadata": {},
   "source": [
    "- 도구(tool)을 활용하려면 [`AIMessage`](https://python.langchain.com/api_reference/core/messages/langchain_core.messages.ai.AIMessage.html)를 활용해야하기 때문에 상태에 `messages`가 필요함\n",
    "- 직접 선언하지 않고 랭그래프에서 제공하는 `MessagesState`를 사용"
   ]
  },
  {
   "cell_type": "code",
   "execution_count": 2,
   "metadata": {},
   "outputs": [],
   "source": [
    "\n",
    "from langgraph.graph import StateGraph, MessagesState\n",
    "\n",
    "class AgentState(MessagesState):\n",
    "    pass\n",
    "\n",
    "graph_builder = StateGraph(AgentState)"
   ]
  },
  {
   "cell_type": "code",
   "execution_count": 3,
   "metadata": {},
   "outputs": [],
   "source": [
    "query = '5억짜리 집 1채, 10억짜리 집 1채, 20억짜리 집 1채를 가지고 있을 때 세금을 얼마나 내나요?'"
   ]
  },
  {
   "cell_type": "code",
   "execution_count": 4,
   "metadata": {},
   "outputs": [],
   "source": [
    "from langchain_openai import AzureChatOpenAI\n",
    "\n",
    "llm = AzureChatOpenAI(\n",
    "    azure_deployment='gpt-4o-2024-11-20',\n",
    "    api_version='2024-08-01-preview',   \n",
    "    temperature=0\n",
    ")"
   ]
  },
  {
   "cell_type": "markdown",
   "metadata": {},
   "source": [
    "- MCP 서버와 연결하기 위한 MCP 클라이언트 생성\n",
    "    - LangChain에서 제공하는 [langchain-mcp-adapters](https://github.com/langchain-ai/langchain-mcp-adapters)활용\n",
    "    - `MultiServerMCPClient`를 활용하면 복수의 MCP 서버와 연결할 수 있음"
   ]
  },
  {
   "cell_type": "code",
   "execution_count": 5,
   "metadata": {},
   "outputs": [
    {
     "name": "stderr",
     "output_type": "stream",
     "text": [
      "Error in sse_reader: peer closed connection without sending complete message body (incomplete chunked read)\n"
     ]
    }
   ],
   "source": [
    "# MCP 클라이언트를 생성하기 위한 MultiServerMCPClient 클래스를 임포트합니다\n",
    "from langchain_mcp_adapters.client import MultiServerMCPClient\n",
    "\n",
    "# 여러 MCP 서버에 연결할 수 있는 클라이언트 인스턴스를 생성합니다\n",
    "mcp_client = MultiServerMCPClient()\n",
    "\n",
    "# 표준 입출력을 통해 MCP 서버에 연결합니다\n",
    "# - server_name: 연결할 서버의 이름 (house_tax_tools)\n",
    "# - url: 서버의 주소 (http://127.0.0.1:8000/sse)\n",
    "await mcp_client.connect_to_server_via_sse(server_name='house_tax_tools', url=\"http://127.0.0.1:8000/sse\")"
   ]
  },
  {
   "cell_type": "code",
   "execution_count": 6,
   "metadata": {},
   "outputs": [],
   "source": [
    "from langgraph.prebuilt import ToolNode\n",
    "\n",
    "tool_list = mcp_client.get_tools() # 기존에 로컬에 선언했던 도구들을 mcp 서버로 이전함\n",
    "llm_with_tools = llm.bind_tools(tool_list)\n",
    "tool_node = ToolNode(tool_list)"
   ]
  },
  {
   "cell_type": "code",
   "execution_count": 7,
   "metadata": {},
   "outputs": [
    {
     "data": {
      "text/plain": [
       "[StructuredTool(name='tax_deductible_tool', description=\"사용자의 부동산 소유 현황에 대한 질문을 기반으로 세금 공제액을 계산합니다.\\n    \\n    이 도구는 다음 두 단계로 작동합니다:\\n    1. tax_deductible_chain을 사용하여 일반적인 세금 공제 규칙을 검색\\n    2. user_deductible_chain을 사용하여 사용자의 특정 상황에 규칙을 적용\\n\\n    Args:\\n        question (str): 부동산 소유에 대한 사용자의 질문\\n        \\n    Returns:\\n        str: 세금 공제액 (예: '9억원', '12억원')\\n    \", args_schema={'properties': {'question': {'title': 'Question', 'type': 'string'}}, 'required': ['question'], 'title': 'tax_deductible_toolArguments', 'type': 'object'}, response_format='content_and_artifact', coroutine=<function convert_mcp_tool_to_langchain_tool.<locals>.call_tool at 0x10fb80e00>),\n",
       " StructuredTool(name='tax_base_tool', description='종합부동산세 과세표준을 계산하기 위한 공식을 검색하고 형식화합니다.\\n    \\n    이 도구는 RAG(Retrieval Augmented Generation) 방식을 사용하여:\\n    1. 지식 베이스에서 과세표준 계산 규칙을 검색\\n    2. 검색한 규칙을 수학 공식으로 형식화\\n\\n    Returns:\\n        str: 과세표준 계산 공식\\n    ', args_schema={'properties': {}, 'title': 'tax_base_toolArguments', 'type': 'object'}, response_format='content_and_artifact', coroutine=<function convert_mcp_tool_to_langchain_tool.<locals>.call_tool at 0x10fb81300>),\n",
       " StructuredTool(name='market_value_rate_tool', description=\"사용자의 부동산 상황에 적용되는 공정시장가액비율을 결정합니다.\\n    \\n    이 도구는:\\n    1. 현재 공정시장가액비율 정보가 포함된 검색 결과를 사용\\n    2. 사용자의 특정 상황(보유 부동산 수, 부동산 가치)을 분석\\n    3. 적절한 공정시장가액비율을 백분율로 반환\\n\\n    Args:\\n        question (str): 부동산 소유에 대한 사용자의 질문\\n        \\n    Returns:\\n        str: 공정시장가액비율 백분율 (예: '60%', '45%')\\n    \", args_schema={'properties': {'question': {'title': 'Question', 'type': 'string'}}, 'required': ['question'], 'title': 'market_value_rate_toolArguments', 'type': 'object'}, response_format='content_and_artifact', coroutine=<function convert_mcp_tool_to_langchain_tool.<locals>.call_tool at 0x10fb80c20>),\n",
       " StructuredTool(name='house_tax_tool', description='수집된 모든 정보를 사용하여 최종 종합부동산세액을 계산합니다.\\n    \\n    이 도구는 다음 정보들을 결합하여 최종 세액을 계산합니다:\\n    1. 과세표준 계산 공식\\n    2. 공정시장가액비율\\n    3. 공제액\\n    4. 세율표\\n\\n    Args:\\n        tax_base_question (str): 과세표준 계산 공식\\n        market_value_rate_question (str): 공정시장가액비율\\n        tax_deductible_question (str): 공제액\\n        question (str): 부동산 세금 계산에 대한 사용자의 질문\\n        \\n    Returns:\\n        str: 설명이 포함된 최종 세금 계산액\\n    ', args_schema={'properties': {'tax_base_question': {'title': 'Tax Base Question', 'type': 'string'}, 'market_value_rate': {'title': 'Market Value Rate', 'type': 'string'}, 'tax_deductible': {'title': 'Tax Deductible', 'type': 'string'}, 'question': {'title': 'Question', 'type': 'string'}}, 'required': ['tax_base_question', 'market_value_rate', 'tax_deductible', 'question'], 'title': 'house_tax_toolArguments', 'type': 'object'}, response_format='content_and_artifact', coroutine=<function convert_mcp_tool_to_langchain_tool.<locals>.call_tool at 0x10fb80ea0>)]"
      ]
     },
     "execution_count": 7,
     "metadata": {},
     "output_type": "execute_result"
    }
   ],
   "source": [
    "tool_list"
   ]
  },
  {
   "cell_type": "code",
   "execution_count": 8,
   "metadata": {},
   "outputs": [],
   "source": [
    "from langchain_core.messages import SystemMessage\n",
    "\n",
    "\n",
    "async def agent(state: MessagesState) -> MessagesState:\n",
    "    \"\"\"\n",
    "    에이전트 함수는 주어진 상태에서 메시지를 가져와\n",
    "    LLM과 도구를 사용하여 응답 메시지를 생성합니다.\n",
    "\n",
    "    Args:\n",
    "        state (MessagesState): 메시지 상태를 포함하는 state.\n",
    "\n",
    "    Returns:\n",
    "        MessagesState: 응답 메시지를 포함하는 새로운 state.\n",
    "    \"\"\"\n",
    "    # 서버에서 시스템 프롬프트를 가져옴\n",
    "    # MCP의 `mcp.prompt()`는 list of prompts를 반환함\n",
    "    system_message = await mcp_client.get_prompt(server_name='house_tax_tools', prompt_name='house_tax_system_prompt', arguments={})\n",
    "    messages = system_message + state['messages']\n",
    "    response = llm_with_tools.invoke(messages)\n",
    "    return {'messages': [response]}"
   ]
  },
  {
   "cell_type": "markdown",
   "metadata": {},
   "source": [
    "- `node` 를 선언하고 `edge` 로 연결함"
   ]
  },
  {
   "cell_type": "code",
   "execution_count": 9,
   "metadata": {},
   "outputs": [
    {
     "data": {
      "text/plain": [
       "<langgraph.graph.state.StateGraph at 0x10cafa900>"
      ]
     },
     "execution_count": 9,
     "metadata": {},
     "output_type": "execute_result"
    }
   ],
   "source": [
    "graph_builder.add_node('agent', agent)\n",
    "graph_builder.add_node('tools', tool_node)"
   ]
  },
  {
   "cell_type": "code",
   "execution_count": 10,
   "metadata": {},
   "outputs": [
    {
     "data": {
      "text/plain": [
       "<langgraph.graph.state.StateGraph at 0x10cafa900>"
      ]
     },
     "execution_count": 10,
     "metadata": {},
     "output_type": "execute_result"
    }
   ],
   "source": [
    "from langgraph.graph import START, END\n",
    "from langgraph.prebuilt import tools_condition\n",
    "\n",
    "\n",
    "graph_builder.add_edge(START, 'agent')\n",
    "graph_builder.add_conditional_edges(\n",
    "    'agent',\n",
    "    tools_condition\n",
    ")\n",
    "graph_builder.add_edge('tools', 'agent')"
   ]
  },
  {
   "cell_type": "code",
   "execution_count": 11,
   "metadata": {},
   "outputs": [],
   "source": [
    "graph = graph_builder.compile()"
   ]
  },
  {
   "cell_type": "code",
   "execution_count": 12,
   "metadata": {},
   "outputs": [
    {
     "data": {
      "image/png": "[encoded data removed]",
      "text/plain": [
       "<langgraph.graph.state.CompiledStateGraph object at 0x10fb4bcb0>"
      ]
     },
     "execution_count": 12,
     "metadata": {},
     "output_type": "execute_result"
    }
   ],
   "source": [
    "graph"
   ]
  },
  {
   "cell_type": "code",
   "execution_count": 13,
   "metadata": {},
   "outputs": [
    {
     "data": {
      "image/png": "[encoded data removed]",
      "text/plain": [
       "<IPython.core.display.Image object>"
      ]
     },
     "metadata": {},
     "output_type": "display_data"
    }
   ],
   "source": [
    "from IPython.display import Image, display\n",
    "\n",
    "display(Image(graph.get_graph().draw_mermaid_png()))"
   ]
  },
  {
   "cell_type": "markdown",
   "metadata": {},
   "source": [
    "- MCP 서버와 MCP 클라이언트 사용시 [`astream()`](https://python.langchain.com/api_reference/core/runnables/langchain_core.runnables.base.Runnable.html#langchain_core.runnables.base.Runnable.astream)을 활용해야하기 때문에 generator의 내용을 print할 수 있는 함수 생성"
   ]
  },
  {
   "cell_type": "code",
   "execution_count": 14,
   "metadata": {},
   "outputs": [],
   "source": [
    "async def process_stream(stream_generator):\n",
    "    results = []\n",
    "    try:\n",
    "        async for chunk in stream_generator:\n",
    "\n",
    "            key = list(chunk.keys())[0]\n",
    "            \n",
    "            if key == 'agent':\n",
    "                # Agent 메시지의 내용을 가져옴. 메세지가 비어있는 경우 어떤 도구를 어떻게 호출할지 정보를 가져옴\n",
    "                content = chunk['agent']['messages'][0].content if chunk['agent']['messages'][0].content != '' else chunk['agent']['messages'][0].additional_kwargs\n",
    "                print(f\"'agent': '{content}'\")\n",
    "            \n",
    "            elif key == 'tools':\n",
    "                # 도구 메시지의 내용을 가져옴\n",
    "                for tool_msg in chunk['tools']['messages']:\n",
    "                    print(f\"'tools': '{tool_msg.content}'\")\n",
    "            \n",
    "            results.append(chunk)\n",
    "        return results\n",
    "    except Exception as e:\n",
    "        print(f\"Error processing stream: {e}\")\n",
    "        return results"
   ]
  },
  {
   "cell_type": "code",
   "execution_count": 15,
   "metadata": {},
   "outputs": [
    {
     "name": "stdout",
     "output_type": "stream",
     "text": [
      "'agent': '{'tool_calls': [{'id': 'call_kD0hvNmrukbtsyUFgPy3uzKX', 'function': {'arguments': '{}', 'name': 'tax_base_tool'}, 'type': 'function'}, {'id': 'call_Hi3vOcwSxq9Zfjvp3Xrvt3ZZ', 'function': {'arguments': '{\"question\": \"5억짜리 집 1채, 10억짜리 집 1채, 20억짜리 집 1채를 가지고 있을 때 공제액은 얼마인가요?\"}', 'name': 'tax_deductible_tool'}, 'type': 'function'}, {'id': 'call_kOWpE2t9uFnFKdw0a1NCLT6x', 'function': {'arguments': '{\"question\": \"5억짜리 집 1채, 10억짜리 집 1채, 20억짜리 집 1채를 가지고 있을 때 공정시장가액비율은 얼마인가요?\"}', 'name': 'market_value_rate_tool'}, 'type': 'function'}], 'refusal': None}'\n",
      "'tools': '9억원'\n",
      "'tools': '공제액은 9억 원입니다.'\n",
      "'tools': '60%'\n",
      "'agent': '{'tool_calls': [{'id': 'call_B3GOo45i6UZ3nR0kjCvB5R6O', 'function': {'arguments': '{\"tax_base_question\":\"9억원\",\"market_value_rate\":\"60%\",\"tax_deductible\":\"9억원\",\"question\":\"5억짜리 집 1채, 10억짜리 집 1채, 20억짜리 집 1채를 가지고 있을 때 세금을 얼마나 내나요?\"}', 'name': 'house_tax_tool'}, 'type': 'function'}], 'refusal': None}'\n",
      "'tools': '주어진 조건에 따라 종합부동산세를 계산해 보겠습니다. \n",
      "\n",
      "### 1. 주어진 정보\n",
      "- 집 1: 5억 원\n",
      "- 집 2: 10억 원\n",
      "- 집 3: 20억 원\n",
      "- 총 공시가격: \\( 5억 + 10억 + 20억 = 35억 원 \\)\n",
      "- 공정시장가액비율: 60%\n",
      "- 공제액: 9억 원\n",
      "- 주택 수: 3채 (3주택 이상 소유자)\n",
      "\n",
      "---\n",
      "\n",
      "### 2. 과세표준 계산\n",
      "과세표준은 다음과 같이 계산됩니다:\n",
      "\n",
      "\\[\n",
      "\\text{과세표준} = (\\text{총 공시가격} - \\text{공제액}) \\times \\text{공정시장가액비율}\n",
      "\\]\n",
      "\n",
      "\\[\n",
      "\\text{과세표준} = (35억 - 9억) \\times 0.6 = 26억 \\times 0.6 = 15.6억 원\n",
      "\\]\n",
      "\n",
      "---\n",
      "\n",
      "### 3. 세율 적용 (3주택 이상 소유자 기준)\n",
      "과세표준이 15.6억 원이므로, 세율표에서 **12억 원 초과 25억 원 이하** 구간에 해당합니다.  \n",
      "이 구간의 세율은 다음과 같습니다:\n",
      "\n",
      "\\[\n",
      "960만 원 + (\\text{과세표준 - 12억 원} \\times 1천분의 20)\n",
      "\\]\n",
      "\n",
      "\\[\n",
      "\\text{세액} = 960만 원 + (15.6억 - 12억) \\times 0.002\n",
      "\\]\n",
      "\n",
      "\\[\n",
      "\\text{세액} = 960만 원 + 3.6억 \\times 0.002\n",
      "\\]\n",
      "\n",
      "\\[\n",
      "\\text{세액} = 960만 원 + 720만 원 = 1,680만 원\n",
      "\\]\n",
      "\n",
      "---\n",
      "\n",
      "### 4. 최종 결과\n",
      "납세의무자가 5억 원, 10억 원, 20억 원짜리 집을 소유한 경우, **종합부동산세는 1,680만 원**입니다.'\n",
      "'agent': '5억짜리 집 1채, 10억짜리 집 1채, 20억짜리 집 1채를 소유한 경우, 종합부동산세는 **1,680만 원**입니다. \n",
      "\n",
      "계산 과정은 다음과 같습니다:\n",
      "1. 총 공시가격: 35억 원\n",
      "2. 공정시장가액비율: 60%\n",
      "3. 공제액: 9억 원\n",
      "4. 과세표준: (35억 - 9억) × 0.6 = 15.6억 원\n",
      "5. 세율 적용: 12억 초과 25억 이하 구간에 해당하여 최종 세액은 1,680만 원입니다.'\n",
      "\n",
      "Final result: {'agent': {'messages': [AIMessage(content='5억짜리 집 1채, 10억짜리 집 1채, 20억짜리 집 1채를 소유한 경우, 종합부동산세는 **1,680만 원**입니다. \\n\\n계산 과정은 다음과 같습니다:\\n1. 총 공시가격: 35억 원\\n2. 공정시장가액비율: 60%\\n3. 공제액: 9억 원\\n4. 과세표준: (35억 - 9억) × 0.6 = 15.6억 원\\n5. 세율 적용: 12억 초과 25억 이하 구간에 해당하여 최종 세액은 1,680만 원입니다.', additional_kwargs={'refusal': None}, response_metadata={'token_usage': {'completion_tokens': 158, 'prompt_tokens': 1520, 'total_tokens': 1678, 'completion_tokens_details': {'accepted_prediction_tokens': 0, 'audio_tokens': 0, 'reasoning_tokens': 0, 'rejected_prediction_tokens': 0}, 'prompt_tokens_details': {'audio_tokens': 0, 'cached_tokens': 0}}, 'model_name': 'gpt-4o-2024-11-20', 'system_fingerprint': 'fp_ee1d74bde0', 'prompt_filter_results': [{'prompt_index': 0, 'content_filter_results': {'hate': {'filtered': False, 'severity': 'safe'}, 'jailbreak': {'filtered': False, 'detected': False}, 'self_harm': {'filtered': False, 'severity': 'safe'}, 'sexual': {'filtered': False, 'severity': 'safe'}, 'violence': {'filtered': False, 'severity': 'safe'}}}], 'finish_reason': 'stop', 'logprobs': None, 'content_filter_results': {'hate': {'filtered': False, 'severity': 'safe'}, 'protected_material_code': {'filtered': False, 'detected': False}, 'protected_material_text': {'filtered': False, 'detected': False}, 'self_harm': {'filtered': False, 'severity': 'safe'}, 'sexual': {'filtered': False, 'severity': 'safe'}, 'violence': {'filtered': False, 'severity': 'safe'}}}, id='run-b4e7a841-44da-4f3c-82a3-71490702688b-0', usage_metadata={'input_tokens': 1520, 'output_tokens': 158, 'total_tokens': 1678, 'input_token_details': {'audio': 0, 'cache_read': 0}, 'output_token_details': {'audio': 0, 'reasoning': 0}})]}}\n"
     ]
    }
   ],
   "source": [
    "from langchain_core.messages import HumanMessage\n",
    "\n",
    "stream_generator = graph.astream({'messages': [HumanMessage(content=query)]})\n",
    "\n",
    "\n",
    "all_chunks = await process_stream(stream_generator)\n",
    "\n",
    "\n",
    "if all_chunks:\n",
    "    final_result = all_chunks[-1]\n",
    "    print(\"\\nFinal result:\", final_result)"
   ]
  },
  {
   "cell_type": "code",
   "execution_count": null,
   "metadata": {},
   "outputs": [],
   "source": []
  }
 ],
 "metadata": {
  "kernelspec": {
   "display_name": ".venv",
   "language": "python",
   "name": "python3"
  },
  "language_info": {
   "codemirror_mode": {
    "name": "ipython",
    "version": 3
   },
   "file_extension": ".py",
   "mimetype": "text/x-python",
   "name": "python",
   "nbconvert_exporter": "python",
   "pygments_lexer": "ipython3",
   "version": "3.13.2"
  }
 },
 "nbformat": 4,
 "nbformat_minor": 2
}
